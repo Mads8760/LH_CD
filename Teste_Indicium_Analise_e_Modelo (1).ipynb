{
 "cells": [
  {
   "cell_type": "markdown",
   "id": "365b278a-6706-4a4d-bad4-b61a55d02c9d",
   "metadata": {},
   "source": [
    "### Análise Exploratoria"
   ]
  },
  {
   "cell_type": "markdown",
   "id": "9f931ca4-8504-42a3-acab-c793da5655b5",
   "metadata": {
    "scrolled": true
   },
   "source": [
    " A analise tem como objetivo coletar informações nos dados do dataset teste_indicium_precificacao.csv. Diante disso, será observado features para a construção de um modelo que preveja preços de alugues de moveis por temporada em Nova York.\n",
    "\n",
    "1- Começamos o processo de análise instalando a biblioteca pandas para manipular e analisar dados de forma eficiente e intuitiva. \n",
    "\n"
   ]
  },
  {
   "cell_type": "code",
   "execution_count": 45,
   "id": "0cff3ebd-2929-4ceb-870b-58efd9f96969",
   "metadata": {},
   "outputs": [
    {
     "name": "stdout",
     "output_type": "stream",
     "text": [
      "Requirement already satisfied: pandas in c:\\users\\samsung\\appdata\\local\\programs\\python\\python313\\lib\\site-packages (2.2.3)"
     ]
    },
    {
     "name": "stderr",
     "output_type": "stream",
     "text": [
      "\n",
      "[notice] A new release of pip is available: 24.3.1 -> 25.0\n",
      "[notice] To update, run: python.exe -m pip install --upgrade pip\n"
     ]
    },
    {
     "name": "stdout",
     "output_type": "stream",
     "text": [
      "\n",
      "Requirement already satisfied: numpy>=1.26.0 in c:\\users\\samsung\\appdata\\local\\programs\\python\\python313\\lib\\site-packages (from pandas) (2.2.2)\n",
      "Requirement already satisfied: python-dateutil>=2.8.2 in c:\\users\\samsung\\appdata\\local\\programs\\python\\python313\\lib\\site-packages (from pandas) (2.9.0.post0)\n",
      "Requirement already satisfied: pytz>=2020.1 in c:\\users\\samsung\\appdata\\local\\programs\\python\\python313\\lib\\site-packages (from pandas) (2024.2)\n",
      "Requirement already satisfied: tzdata>=2022.7 in c:\\users\\samsung\\appdata\\local\\programs\\python\\python313\\lib\\site-packages (from pandas) (2025.1)\n",
      "Requirement already satisfied: six>=1.5 in c:\\users\\samsung\\appdata\\local\\programs\\python\\python313\\lib\\site-packages (from python-dateutil>=2.8.2->pandas) (1.17.0)\n"
     ]
    }
   ],
   "source": [
    "!pip install pandas"
   ]
  },
  {
   "cell_type": "code",
   "execution_count": 46,
   "id": "19e2c272-f82a-454b-a5a4-5177efde7c02",
   "metadata": {},
   "outputs": [],
   "source": [
    "import pandas as pd"
   ]
  },
  {
   "cell_type": "markdown",
   "id": "056467c0-072b-45f5-8afc-91df4720fd4f",
   "metadata": {},
   "source": [
    "2- Apos isso vamos carregar arquivo para a visualização dos dados."
   ]
  },
  {
   "cell_type": "code",
   "execution_count": 47,
   "id": "e3832889-3fad-4d15-9f84-ab003be046fb",
   "metadata": {},
   "outputs": [
    {
     "data": {
      "text/html": [
       "<div>\n",
       "<style scoped>\n",
       "    .dataframe tbody tr th:only-of-type {\n",
       "        vertical-align: middle;\n",
       "    }\n",
       "\n",
       "    .dataframe tbody tr th {\n",
       "        vertical-align: top;\n",
       "    }\n",
       "\n",
       "    .dataframe thead th {\n",
       "        text-align: right;\n",
       "    }\n",
       "</style>\n",
       "<table border=\"1\" class=\"dataframe\">\n",
       "  <thead>\n",
       "    <tr style=\"text-align: right;\">\n",
       "      <th></th>\n",
       "      <th>id</th>\n",
       "      <th>nome</th>\n",
       "      <th>host_id</th>\n",
       "      <th>host_name</th>\n",
       "      <th>bairro_group</th>\n",
       "      <th>bairro</th>\n",
       "      <th>latitude</th>\n",
       "      <th>longitude</th>\n",
       "      <th>room_type</th>\n",
       "      <th>price</th>\n",
       "      <th>minimo_noites</th>\n",
       "      <th>numero_de_reviews</th>\n",
       "      <th>ultima_review</th>\n",
       "      <th>reviews_por_mes</th>\n",
       "      <th>calculado_host_listings_count</th>\n",
       "      <th>disponibilidade_365</th>\n",
       "    </tr>\n",
       "  </thead>\n",
       "  <tbody>\n",
       "    <tr>\n",
       "      <th>0</th>\n",
       "      <td>2595</td>\n",
       "      <td>Skylit Midtown Castle</td>\n",
       "      <td>2845</td>\n",
       "      <td>Jennifer</td>\n",
       "      <td>Manhattan</td>\n",
       "      <td>Midtown</td>\n",
       "      <td>40.75362</td>\n",
       "      <td>-73.98377</td>\n",
       "      <td>Entire home/apt</td>\n",
       "      <td>225</td>\n",
       "      <td>1</td>\n",
       "      <td>45</td>\n",
       "      <td>2019-05-21</td>\n",
       "      <td>0.38</td>\n",
       "      <td>2</td>\n",
       "      <td>355</td>\n",
       "    </tr>\n",
       "    <tr>\n",
       "      <th>1</th>\n",
       "      <td>3647</td>\n",
       "      <td>THE VILLAGE OF HARLEM....NEW YORK !</td>\n",
       "      <td>4632</td>\n",
       "      <td>Elisabeth</td>\n",
       "      <td>Manhattan</td>\n",
       "      <td>Harlem</td>\n",
       "      <td>40.80902</td>\n",
       "      <td>-73.94190</td>\n",
       "      <td>Private room</td>\n",
       "      <td>150</td>\n",
       "      <td>3</td>\n",
       "      <td>0</td>\n",
       "      <td>NaN</td>\n",
       "      <td>NaN</td>\n",
       "      <td>1</td>\n",
       "      <td>365</td>\n",
       "    </tr>\n",
       "    <tr>\n",
       "      <th>2</th>\n",
       "      <td>3831</td>\n",
       "      <td>Cozy Entire Floor of Brownstone</td>\n",
       "      <td>4869</td>\n",
       "      <td>LisaRoxanne</td>\n",
       "      <td>Brooklyn</td>\n",
       "      <td>Clinton Hill</td>\n",
       "      <td>40.68514</td>\n",
       "      <td>-73.95976</td>\n",
       "      <td>Entire home/apt</td>\n",
       "      <td>89</td>\n",
       "      <td>1</td>\n",
       "      <td>270</td>\n",
       "      <td>2019-07-05</td>\n",
       "      <td>4.64</td>\n",
       "      <td>1</td>\n",
       "      <td>194</td>\n",
       "    </tr>\n",
       "    <tr>\n",
       "      <th>3</th>\n",
       "      <td>5022</td>\n",
       "      <td>Entire Apt: Spacious Studio/Loft by central park</td>\n",
       "      <td>7192</td>\n",
       "      <td>Laura</td>\n",
       "      <td>Manhattan</td>\n",
       "      <td>East Harlem</td>\n",
       "      <td>40.79851</td>\n",
       "      <td>-73.94399</td>\n",
       "      <td>Entire home/apt</td>\n",
       "      <td>80</td>\n",
       "      <td>10</td>\n",
       "      <td>9</td>\n",
       "      <td>2018-11-19</td>\n",
       "      <td>0.10</td>\n",
       "      <td>1</td>\n",
       "      <td>0</td>\n",
       "    </tr>\n",
       "    <tr>\n",
       "      <th>4</th>\n",
       "      <td>5099</td>\n",
       "      <td>Large Cozy 1 BR Apartment In Midtown East</td>\n",
       "      <td>7322</td>\n",
       "      <td>Chris</td>\n",
       "      <td>Manhattan</td>\n",
       "      <td>Murray Hill</td>\n",
       "      <td>40.74767</td>\n",
       "      <td>-73.97500</td>\n",
       "      <td>Entire home/apt</td>\n",
       "      <td>200</td>\n",
       "      <td>3</td>\n",
       "      <td>74</td>\n",
       "      <td>2019-06-22</td>\n",
       "      <td>0.59</td>\n",
       "      <td>1</td>\n",
       "      <td>129</td>\n",
       "    </tr>\n",
       "  </tbody>\n",
       "</table>\n",
       "</div>"
      ],
      "text/plain": [
       "     id                                              nome  host_id  \\\n",
       "0  2595                             Skylit Midtown Castle     2845   \n",
       "1  3647               THE VILLAGE OF HARLEM....NEW YORK !     4632   \n",
       "2  3831                   Cozy Entire Floor of Brownstone     4869   \n",
       "3  5022  Entire Apt: Spacious Studio/Loft by central park     7192   \n",
       "4  5099         Large Cozy 1 BR Apartment In Midtown East     7322   \n",
       "\n",
       "     host_name bairro_group        bairro  latitude  longitude  \\\n",
       "0     Jennifer    Manhattan       Midtown  40.75362  -73.98377   \n",
       "1    Elisabeth    Manhattan        Harlem  40.80902  -73.94190   \n",
       "2  LisaRoxanne     Brooklyn  Clinton Hill  40.68514  -73.95976   \n",
       "3        Laura    Manhattan   East Harlem  40.79851  -73.94399   \n",
       "4        Chris    Manhattan   Murray Hill  40.74767  -73.97500   \n",
       "\n",
       "         room_type  price  minimo_noites  numero_de_reviews ultima_review  \\\n",
       "0  Entire home/apt    225              1                 45    2019-05-21   \n",
       "1     Private room    150              3                  0           NaN   \n",
       "2  Entire home/apt     89              1                270    2019-07-05   \n",
       "3  Entire home/apt     80             10                  9    2018-11-19   \n",
       "4  Entire home/apt    200              3                 74    2019-06-22   \n",
       "\n",
       "   reviews_por_mes  calculado_host_listings_count  disponibilidade_365  \n",
       "0             0.38                              2                  355  \n",
       "1              NaN                              1                  365  \n",
       "2             4.64                              1                  194  \n",
       "3             0.10                              1                    0  \n",
       "4             0.59                              1                  129  "
      ]
     },
     "execution_count": 47,
     "metadata": {},
     "output_type": "execute_result"
    }
   ],
   "source": [
    "# Carregar o arquivo CSV\n",
    "df_precificação = pd.read_csv('teste_indicium_precificacao.csv')\n",
    "\n",
    "# Exibir as primeiras linhas do DataFrame\n",
    "df_precificação.head()"
   ]
  },
  {
   "cell_type": "markdown",
   "id": "e7a007ad-3fcd-416c-986a-15a3737e2e3a",
   "metadata": {},
   "source": [
    "3- Da pra perceber linhas com NaN que significa Not a Number. Vamos retirar essas linhas com os NaNs. Perceba que a segunda linha foi removida da planilha."
   ]
  },
  {
   "cell_type": "code",
   "execution_count": 48,
   "id": "542584bf-ba1b-43d4-9994-def2693d895f",
   "metadata": {},
   "outputs": [
    {
     "data": {
      "text/html": [
       "<div>\n",
       "<style scoped>\n",
       "    .dataframe tbody tr th:only-of-type {\n",
       "        vertical-align: middle;\n",
       "    }\n",
       "\n",
       "    .dataframe tbody tr th {\n",
       "        vertical-align: top;\n",
       "    }\n",
       "\n",
       "    .dataframe thead th {\n",
       "        text-align: right;\n",
       "    }\n",
       "</style>\n",
       "<table border=\"1\" class=\"dataframe\">\n",
       "  <thead>\n",
       "    <tr style=\"text-align: right;\">\n",
       "      <th></th>\n",
       "      <th>id</th>\n",
       "      <th>nome</th>\n",
       "      <th>host_id</th>\n",
       "      <th>host_name</th>\n",
       "      <th>bairro_group</th>\n",
       "      <th>bairro</th>\n",
       "      <th>latitude</th>\n",
       "      <th>longitude</th>\n",
       "      <th>room_type</th>\n",
       "      <th>price</th>\n",
       "      <th>minimo_noites</th>\n",
       "      <th>numero_de_reviews</th>\n",
       "      <th>ultima_review</th>\n",
       "      <th>reviews_por_mes</th>\n",
       "      <th>calculado_host_listings_count</th>\n",
       "      <th>disponibilidade_365</th>\n",
       "    </tr>\n",
       "  </thead>\n",
       "  <tbody>\n",
       "    <tr>\n",
       "      <th>0</th>\n",
       "      <td>2595</td>\n",
       "      <td>Skylit Midtown Castle</td>\n",
       "      <td>2845</td>\n",
       "      <td>Jennifer</td>\n",
       "      <td>Manhattan</td>\n",
       "      <td>Midtown</td>\n",
       "      <td>40.75362</td>\n",
       "      <td>-73.98377</td>\n",
       "      <td>Entire home/apt</td>\n",
       "      <td>225</td>\n",
       "      <td>1</td>\n",
       "      <td>45</td>\n",
       "      <td>2019-05-21</td>\n",
       "      <td>0.38</td>\n",
       "      <td>2</td>\n",
       "      <td>355</td>\n",
       "    </tr>\n",
       "    <tr>\n",
       "      <th>2</th>\n",
       "      <td>3831</td>\n",
       "      <td>Cozy Entire Floor of Brownstone</td>\n",
       "      <td>4869</td>\n",
       "      <td>LisaRoxanne</td>\n",
       "      <td>Brooklyn</td>\n",
       "      <td>Clinton Hill</td>\n",
       "      <td>40.68514</td>\n",
       "      <td>-73.95976</td>\n",
       "      <td>Entire home/apt</td>\n",
       "      <td>89</td>\n",
       "      <td>1</td>\n",
       "      <td>270</td>\n",
       "      <td>2019-07-05</td>\n",
       "      <td>4.64</td>\n",
       "      <td>1</td>\n",
       "      <td>194</td>\n",
       "    </tr>\n",
       "    <tr>\n",
       "      <th>3</th>\n",
       "      <td>5022</td>\n",
       "      <td>Entire Apt: Spacious Studio/Loft by central park</td>\n",
       "      <td>7192</td>\n",
       "      <td>Laura</td>\n",
       "      <td>Manhattan</td>\n",
       "      <td>East Harlem</td>\n",
       "      <td>40.79851</td>\n",
       "      <td>-73.94399</td>\n",
       "      <td>Entire home/apt</td>\n",
       "      <td>80</td>\n",
       "      <td>10</td>\n",
       "      <td>9</td>\n",
       "      <td>2018-11-19</td>\n",
       "      <td>0.10</td>\n",
       "      <td>1</td>\n",
       "      <td>0</td>\n",
       "    </tr>\n",
       "    <tr>\n",
       "      <th>4</th>\n",
       "      <td>5099</td>\n",
       "      <td>Large Cozy 1 BR Apartment In Midtown East</td>\n",
       "      <td>7322</td>\n",
       "      <td>Chris</td>\n",
       "      <td>Manhattan</td>\n",
       "      <td>Murray Hill</td>\n",
       "      <td>40.74767</td>\n",
       "      <td>-73.97500</td>\n",
       "      <td>Entire home/apt</td>\n",
       "      <td>200</td>\n",
       "      <td>3</td>\n",
       "      <td>74</td>\n",
       "      <td>2019-06-22</td>\n",
       "      <td>0.59</td>\n",
       "      <td>1</td>\n",
       "      <td>129</td>\n",
       "    </tr>\n",
       "    <tr>\n",
       "      <th>5</th>\n",
       "      <td>5121</td>\n",
       "      <td>BlissArtsSpace!</td>\n",
       "      <td>7356</td>\n",
       "      <td>Garon</td>\n",
       "      <td>Brooklyn</td>\n",
       "      <td>Bedford-Stuyvesant</td>\n",
       "      <td>40.68688</td>\n",
       "      <td>-73.95596</td>\n",
       "      <td>Private room</td>\n",
       "      <td>60</td>\n",
       "      <td>45</td>\n",
       "      <td>49</td>\n",
       "      <td>2017-10-05</td>\n",
       "      <td>0.40</td>\n",
       "      <td>1</td>\n",
       "      <td>0</td>\n",
       "    </tr>\n",
       "  </tbody>\n",
       "</table>\n",
       "</div>"
      ],
      "text/plain": [
       "     id                                              nome  host_id  \\\n",
       "0  2595                             Skylit Midtown Castle     2845   \n",
       "2  3831                   Cozy Entire Floor of Brownstone     4869   \n",
       "3  5022  Entire Apt: Spacious Studio/Loft by central park     7192   \n",
       "4  5099         Large Cozy 1 BR Apartment In Midtown East     7322   \n",
       "5  5121                                   BlissArtsSpace!     7356   \n",
       "\n",
       "     host_name bairro_group              bairro  latitude  longitude  \\\n",
       "0     Jennifer    Manhattan             Midtown  40.75362  -73.98377   \n",
       "2  LisaRoxanne     Brooklyn        Clinton Hill  40.68514  -73.95976   \n",
       "3        Laura    Manhattan         East Harlem  40.79851  -73.94399   \n",
       "4        Chris    Manhattan         Murray Hill  40.74767  -73.97500   \n",
       "5        Garon     Brooklyn  Bedford-Stuyvesant  40.68688  -73.95596   \n",
       "\n",
       "         room_type  price  minimo_noites  numero_de_reviews ultima_review  \\\n",
       "0  Entire home/apt    225              1                 45    2019-05-21   \n",
       "2  Entire home/apt     89              1                270    2019-07-05   \n",
       "3  Entire home/apt     80             10                  9    2018-11-19   \n",
       "4  Entire home/apt    200              3                 74    2019-06-22   \n",
       "5     Private room     60             45                 49    2017-10-05   \n",
       "\n",
       "   reviews_por_mes  calculado_host_listings_count  disponibilidade_365  \n",
       "0             0.38                              2                  355  \n",
       "2             4.64                              1                  194  \n",
       "3             0.10                              1                    0  \n",
       "4             0.59                              1                  129  \n",
       "5             0.40                              1                    0  "
      ]
     },
     "execution_count": 48,
     "metadata": {},
     "output_type": "execute_result"
    }
   ],
   "source": [
    "#Remoção de linhas com NaN\n",
    "df_precificação = df_precificação.dropna()\n",
    "df_precificação.head()"
   ]
  },
  {
   "cell_type": "markdown",
   "id": "031e243e-11ce-485b-8afc-9a11a4e9e7f4",
   "metadata": {},
   "source": [
    "4- Vamos visualizar as informações dos dados. Aqui podemos perceber quantas colunas os dados possuem, o tipo dos dados entre outras informações."
   ]
  },
  {
   "cell_type": "code",
   "execution_count": 49,
   "id": "46dfae18-4731-408f-b8e8-0181784af94b",
   "metadata": {},
   "outputs": [
    {
     "name": "stdout",
     "output_type": "stream",
     "text": [
      "<class 'pandas.core.frame.DataFrame'>\n",
      "Index: 38820 entries, 0 to 48851\n",
      "Data columns (total 16 columns):\n",
      " #   Column                         Non-Null Count  Dtype  \n",
      "---  ------                         --------------  -----  \n",
      " 0   id                             38820 non-null  int64  \n",
      " 1   nome                           38820 non-null  object \n",
      " 2   host_id                        38820 non-null  int64  \n",
      " 3   host_name                      38820 non-null  object \n",
      " 4   bairro_group                   38820 non-null  object \n",
      " 5   bairro                         38820 non-null  object \n",
      " 6   latitude                       38820 non-null  float64\n",
      " 7   longitude                      38820 non-null  float64\n",
      " 8   room_type                      38820 non-null  object \n",
      " 9   price                          38820 non-null  int64  \n",
      " 10  minimo_noites                  38820 non-null  int64  \n",
      " 11  numero_de_reviews              38820 non-null  int64  \n",
      " 12  ultima_review                  38820 non-null  object \n",
      " 13  reviews_por_mes                38820 non-null  float64\n",
      " 14  calculado_host_listings_count  38820 non-null  int64  \n",
      " 15  disponibilidade_365            38820 non-null  int64  \n",
      "dtypes: float64(3), int64(7), object(6)\n",
      "memory usage: 5.0+ MB\n"
     ]
    }
   ],
   "source": [
    "#Visualizaçao das informaçoes do dataset\n",
    "df_precificação.info()\n"
   ]
  },
  {
   "cell_type": "markdown",
   "id": "34fe0da9-24e5-4537-8d7e-bb5e3d48b444",
   "metadata": {},
   "source": [
    "5- Agora vamos coletar informações de algumas features (caracteristicas) que julgo importante para a criação do modelo.\n",
    "Aqui vamos responder algumas perguntas necessarias para entender como podemos criar um modelo para prever preços de alugueis por temporada de acordo com o dataset em questão.\n",
    "### Perguntas:\n",
    "1 Quais bairros foram utilizados?\n",
    "\n",
    "2 Qual bairro obteve maiores reservas?\n",
    "\n",
    "3 Quais os tipos de rooms_types e qual o com maiores reservas?\n",
    "\n",
    "4 Qual o maximo e minino da coluna minimo_noites e qual sua media?\n",
    "\n",
    "5 Qual o maximo e o minimo das colunas latitude e longitude?\n",
    "\n",
    "6 Qual o maximo, minimo e a media da coluna disponibilidade_365?\n",
    "\n",
    "7 Qual a media dos preços dos imoveis de alugueis por temporada?\n"
   ]
  },
  {
   "cell_type": "markdown",
   "id": "25d64cf9-7083-452c-8fa6-78acc57b69c7",
   "metadata": {},
   "source": [
    "5.1 - Vamos começar com a coluna bairro_group. Quais são os bairros utilizados nos dados? Vamos descobrir tambem qual bairro mais procurado para as reservas."
   ]
  },
  {
   "cell_type": "code",
   "execution_count": 50,
   "id": "a799f09e-6165-4d7a-9101-b2a686eff01e",
   "metadata": {},
   "outputs": [
    {
     "data": {
      "text/plain": [
       "array(['Manhattan', 'Brooklyn', 'Queens', 'Staten Island', 'Bronx'],\n",
       "      dtype=object)"
      ]
     },
     "execution_count": 50,
     "metadata": {},
     "output_type": "execute_result"
    }
   ],
   "source": [
    "#Visualizar quais grupos estão no dataset\n",
    "df_precificação[\"bairro_group\"].unique()"
   ]
  },
  {
   "cell_type": "code",
   "execution_count": 51,
   "id": "d1bb1bf0-9f8e-4857-91ee-b0eee3fe7389",
   "metadata": {},
   "outputs": [
    {
     "data": {
      "text/plain": [
       "bairro_group\n",
       "Manhattan        16621\n",
       "Brooklyn         16438\n",
       "Queens            4572\n",
       "Bronx              875\n",
       "Staten Island      314\n",
       "Name: count, dtype: int64"
      ]
     },
     "execution_count": 51,
     "metadata": {},
     "output_type": "execute_result"
    }
   ],
   "source": [
    "#Visualizar uma escala de escolha dos bairros e a quantidade\n",
    "df_precificação[\"bairro_group\"].value_counts()"
   ]
  },
  {
   "cell_type": "markdown",
   "id": "df927054-e877-4d4b-bbbd-3b222d56b3a0",
   "metadata": {},
   "source": [
    "5.1.1 - Perceba que estamos trabalhando com cinco bairros os quais são os considerados os mais caros sendo Manhattan o mais procurado e tambem o mais caro da lista."
   ]
  },
  {
   "cell_type": "markdown",
   "id": "41ec58f9-8321-4fb7-82a8-d7c2fef31871",
   "metadata": {},
   "source": [
    "5.2 - Agora vamos avaliar a coluna room_type. Quantos opções de quarto estão disponiveis e qual a escolha mais recorrente?"
   ]
  },
  {
   "cell_type": "code",
   "execution_count": 52,
   "id": "557d38c3-f069-463b-9202-fef66a122f5a",
   "metadata": {},
   "outputs": [
    {
     "data": {
      "text/plain": [
       "array(['Entire home/apt', 'Private room', 'Shared room'], dtype=object)"
      ]
     },
     "execution_count": 52,
     "metadata": {},
     "output_type": "execute_result"
    }
   ],
   "source": [
    "#Visualizar quais rooms estão no dataset\n",
    "df_precificação[\"room_type\"].unique()"
   ]
  },
  {
   "cell_type": "code",
   "execution_count": 53,
   "id": "9d711069-652a-45d4-8653-19c13a35011b",
   "metadata": {},
   "outputs": [
    {
     "data": {
      "text/plain": [
       "room_type\n",
       "Entire home/apt    20321\n",
       "Private room       17653\n",
       "Shared room          846\n",
       "Name: count, dtype: int64"
      ]
     },
     "execution_count": 53,
     "metadata": {},
     "output_type": "execute_result"
    }
   ],
   "source": [
    "#Visualizar uma escala de esolha dos rooms e a quantidade\n",
    "df_precificação[\"room_type\"].value_counts()"
   ]
  },
  {
   "cell_type": "markdown",
   "id": "78ff1cbb-92f2-4981-87bd-1386ef13fe24",
   "metadata": {},
   "source": [
    "5.2.1 - Perceba que estamos trabalhando com três opções sendo o Entire home/apt o mais procurado."
   ]
  },
  {
   "cell_type": "markdown",
   "id": "b77b2755-89d0-4aa6-b821-2d3a45be99ba",
   "metadata": {},
   "source": [
    "5.3 - Agora vamos observar o maximo e o minimo dos valores das colunas minimo de noites, latitude, longitude e disponibilidade 365 e suas medias e tambem vamos analizar a media dos preços dos alugueis."
   ]
  },
  {
   "cell_type": "code",
   "execution_count": 54,
   "id": "6df72dde-5323-43e6-89a8-d930fb44b2be",
   "metadata": {},
   "outputs": [
    {
     "data": {
      "text/plain": [
       "np.int64(1250)"
      ]
     },
     "execution_count": 54,
     "metadata": {},
     "output_type": "execute_result"
    }
   ],
   "source": [
    "#Visualizar o maximo de noites utilizadas\n",
    "df_precificação[\"minimo_noites\"].max()"
   ]
  },
  {
   "cell_type": "code",
   "execution_count": 55,
   "id": "55925666-a48b-449e-89ba-4e4dd65232ab",
   "metadata": {},
   "outputs": [
    {
     "data": {
      "text/plain": [
       "np.int64(1)"
      ]
     },
     "execution_count": 55,
     "metadata": {},
     "output_type": "execute_result"
    }
   ],
   "source": [
    "#Visualizar o minimo de noites permitidas\n",
    "df_precificação[\"minimo_noites\"].min()"
   ]
  },
  {
   "cell_type": "code",
   "execution_count": 56,
   "id": "2f6bde84-1b92-439e-ade4-c2e16dc63b26",
   "metadata": {},
   "outputs": [
    {
     "data": {
      "text/plain": [
       "np.int64(5)"
      ]
     },
     "execution_count": 56,
     "metadata": {},
     "output_type": "execute_result"
    }
   ],
   "source": [
    "#Media de noites\n",
    "df_precificação[\"minimo_noites\"].mean().astype(int)"
   ]
  },
  {
   "cell_type": "code",
   "execution_count": 57,
   "id": "cd63ae2d-e3d7-4512-8702-056a075c8121",
   "metadata": {},
   "outputs": [
    {
     "data": {
      "text/plain": [
       "np.int64(40)"
      ]
     },
     "execution_count": 57,
     "metadata": {},
     "output_type": "execute_result"
    }
   ],
   "source": [
    "#Visualizar o maximo de latitude utilizada\n",
    "df_precificação[\"latitude\"].max().astype(int)"
   ]
  },
  {
   "cell_type": "code",
   "execution_count": 58,
   "id": "7a63843b-c2f7-4b71-b7a2-997a9a70fdc5",
   "metadata": {},
   "outputs": [
    {
     "data": {
      "text/plain": [
       "np.float64(40.50641)"
      ]
     },
     "execution_count": 58,
     "metadata": {},
     "output_type": "execute_result"
    }
   ],
   "source": [
    "#Visualizar o minimo de latitude permitida\n",
    "df_precificação[\"latitude\"].min()"
   ]
  },
  {
   "cell_type": "code",
   "execution_count": 59,
   "id": "2651f2a9-f5ce-401b-83ab-1c9cb780f9b9",
   "metadata": {},
   "outputs": [
    {
     "data": {
      "text/plain": [
       "np.float64(-73.71299)"
      ]
     },
     "execution_count": 59,
     "metadata": {},
     "output_type": "execute_result"
    }
   ],
   "source": [
    "#Visualizar o maximo de longitude utilizada\n",
    "df_precificação[\"longitude\"].max()"
   ]
  },
  {
   "cell_type": "code",
   "execution_count": 60,
   "id": "1418f882-be39-4451-97d4-d7d9a950e136",
   "metadata": {},
   "outputs": [
    {
     "data": {
      "text/plain": [
       "np.float64(-74.24442)"
      ]
     },
     "execution_count": 60,
     "metadata": {},
     "output_type": "execute_result"
    }
   ],
   "source": [
    "#Visualizar o minimo de latitude permitida\n",
    "df_precificação[\"longitude\"].min()"
   ]
  },
  {
   "cell_type": "code",
   "execution_count": 61,
   "id": "dfa2fdf9-772f-4479-86eb-eedaffbc44e3",
   "metadata": {},
   "outputs": [
    {
     "data": {
      "text/plain": [
       "np.int64(365)"
      ]
     },
     "execution_count": 61,
     "metadata": {},
     "output_type": "execute_result"
    }
   ],
   "source": [
    "#Visualizar o maximo de disponibilidade utilizada\n",
    "df_precificação[\"disponibilidade_365\"].max()"
   ]
  },
  {
   "cell_type": "code",
   "execution_count": 62,
   "id": "bdbb4989-989a-4e09-b5d6-4027a144d7ce",
   "metadata": {},
   "outputs": [
    {
     "data": {
      "text/plain": [
       "np.int64(114)"
      ]
     },
     "execution_count": 62,
     "metadata": {},
     "output_type": "execute_result"
    }
   ],
   "source": [
    "#Media de disponibilidade dos alugueis\n",
    "df_precificação[\"disponibilidade_365\"].mean().astype(int)"
   ]
  },
  {
   "cell_type": "code",
   "execution_count": 63,
   "id": "31321245-6194-427a-b398-f0190824614f",
   "metadata": {},
   "outputs": [
    {
     "data": {
      "text/plain": [
       "np.int64(0)"
      ]
     },
     "execution_count": 63,
     "metadata": {},
     "output_type": "execute_result"
    }
   ],
   "source": [
    "#Visualizar o minimo de disponibilidade permitida\n",
    "df_precificação[\"disponibilidade_365\"].min()"
   ]
  },
  {
   "cell_type": "code",
   "execution_count": 64,
   "id": "a5773205-90ff-4c49-81a7-fa5610171c31",
   "metadata": {},
   "outputs": [
    {
     "data": {
      "text/plain": [
       "np.int64(142)"
      ]
     },
     "execution_count": 64,
     "metadata": {},
     "output_type": "execute_result"
    }
   ],
   "source": [
    "#Media dos preços dos alugueis.\n",
    "df_precificação[\"price\"].mean().astype(int)"
   ]
  },
  {
   "cell_type": "markdown",
   "id": "c508ba44-cab8-465f-b50e-fb2b8ecbfbf4",
   "metadata": {},
   "source": [
    "### Perguntas relacionadas a analise dos dados\n",
    "1 Supondo que uma pessoa esteja pensando em investir em um apartamento para alugar na plataforma, onde seria mais indicada a compra?\n",
    "\n",
    "2 O número mínimo de noites e a disponibilidade ao longo do ano interferem no preço?\n",
    "\n",
    "3 Existe algum padrão no texto do nome do local para lugares de mais alto valor?\n"
   ]
  },
  {
   "cell_type": "markdown",
   "id": "cb914062-7b7e-48d1-ae80-dab6be6c95e3",
   "metadata": {},
   "source": [
    "### Respostas\n",
    "1 O local de investimento em relação ao dataset depende do que o cliente busca e quais suas condições de investimento. Para a analise descobrimos que Manhatan é destino escolhido por uma boa parte dos compradores.\n",
    "\n",
    "2 De acordo com o dataset, o que interfere nos valores são os nomes dos moveis com suas caracteristicas e o minimo numero de noites ja disponibilidade não interfere.\n",
    "\n",
    "3 Sim! Se estiver escrito que é um \"castelo\" ou \"luxuoso\" os valores são mais altos."
   ]
  },
  {
   "cell_type": "markdown",
   "id": "7d590b10-77d7-4043-ab8a-73f0274d7ca6",
   "metadata": {},
   "source": [
    "_______________________________________________________________________________________________________________________________________________________"
   ]
  },
  {
   "cell_type": "markdown",
   "id": "bf7b09f2-1cf0-4a88-adb1-ffc5f55988d7",
   "metadata": {},
   "source": [
    "### Desenvolvimento do Modelo - Regressão Linear"
   ]
  },
  {
   "cell_type": "markdown",
   "id": "2b88c488-3bb4-4f35-bb14-1120d52a86d2",
   "metadata": {},
   "source": [
    "O proximo passo é desenvolver um modelo que preveja preços dos alugueis de acordo com as features que escolhi para trabalhar no modelo."
   ]
  },
  {
   "cell_type": "markdown",
   "id": "29200551-7ff4-490f-808a-16206fd50884",
   "metadata": {},
   "source": [
    "1 - Vamos começar importando as bibliotecas necessarias."
   ]
  },
  {
   "cell_type": "code",
   "execution_count": 65,
   "id": "11c1496d-8b27-40f3-a5e9-1b1b013f10f5",
   "metadata": {},
   "outputs": [
    {
     "name": "stdout",
     "output_type": "stream",
     "text": [
      "Requirement already satisfied: matplotlib in c:\\users\\samsung\\appdata\\local\\programs\\python\\python313\\lib\\site-packages (3.10.0)\n",
      "Requirement already satisfied: contourpy>=1.0.1 in c:\\users\\samsung\\appdata\\local\\programs\\python\\python313\\lib\\site-packages (from matplotlib) (1.3.1)\n",
      "Requirement already satisfied: cycler>=0.10 in c:\\users\\samsung\\appdata\\local\\programs\\python\\python313\\lib\\site-packages (from matplotlib) (0.12.1)\n",
      "Requirement already satisfied: fonttools>=4.22.0 in c:\\users\\samsung\\appdata\\local\\programs\\python\\python313\\lib\\site-packages (from matplotlib) (4.55.8)\n",
      "Requirement already satisfied: kiwisolver>=1.3.1 in c:\\users\\samsung\\appdata\\local\\programs\\python\\python313\\lib\\site-packages (from matplotlib) (1.4.8)\n",
      "Requirement already satisfied: numpy>=1.23 in c:\\users\\samsung\\appdata\\local\\programs\\python\\python313\\lib\\site-packages (from matplotlib) (2.2.2)\n",
      "Requirement already satisfied: packaging>=20.0 in c:\\users\\samsung\\appdata\\local\\programs\\python\\python313\\lib\\site-packages (from matplotlib) (24.2)\n",
      "Requirement already satisfied: pillow>=8 in c:\\users\\samsung\\appdata\\local\\programs\\python\\python313\\lib\\site-packages (from matplotlib) (11.1.0)\n",
      "Requirement already satisfied: pyparsing>=2.3.1 in c:\\users\\samsung\\appdata\\local\\programs\\python\\python313\\lib\\site-packages (from matplotlib) (3.2.1)\n",
      "Requirement already satisfied: python-dateutil>=2.7 in c:\\users\\samsung\\appdata\\local\\programs\\python\\python313\\lib\\site-packages (from matplotlib) (2.9.0.post0)\n",
      "Requirement already satisfied: six>=1.5 in c:\\users\\samsung\\appdata\\local\\programs\\python\\python313\\lib\\site-packages (from python-dateutil>=2.7->matplotlib) (1.17.0)\n"
     ]
    },
    {
     "name": "stderr",
     "output_type": "stream",
     "text": [
      "\n",
      "[notice] A new release of pip is available: 24.3.1 -> 25.0\n",
      "[notice] To update, run: python.exe -m pip install --upgrade pip\n"
     ]
    }
   ],
   "source": [
    "!pip install matplotlib\n"
   ]
  },
  {
   "cell_type": "code",
   "execution_count": 66,
   "id": "c76c0e17-a826-4f7f-be3b-f21976e73be2",
   "metadata": {},
   "outputs": [
    {
     "name": "stdout",
     "output_type": "stream",
     "text": [
      "Requirement already satisfied: seaborn in c:\\users\\samsung\\appdata\\local\\programs\\python\\python313\\lib\\site-packages (0.13.2)\n",
      "Requirement already satisfied: numpy!=1.24.0,>=1.20 in c:\\users\\samsung\\appdata\\local\\programs\\python\\python313\\lib\\site-packages (from seaborn) (2.2.2)\n",
      "Requirement already satisfied: pandas>=1.2 in c:\\users\\samsung\\appdata\\local\\programs\\python\\python313\\lib\\site-packages (from seaborn) (2.2.3)\n",
      "Requirement already satisfied: matplotlib!=3.6.1,>=3.4 in c:\\users\\samsung\\appdata\\local\\programs\\python\\python313\\lib\\site-packages (from seaborn) (3.10.0)\n",
      "Requirement already satisfied: contourpy>=1.0.1 in c:\\users\\samsung\\appdata\\local\\programs\\python\\python313\\lib\\site-packages (from matplotlib!=3.6.1,>=3.4->seaborn) (1.3.1)\n",
      "Requirement already satisfied: cycler>=0.10 in c:\\users\\samsung\\appdata\\local\\programs\\python\\python313\\lib\\site-packages (from matplotlib!=3.6.1,>=3.4->seaborn) (0.12.1)\n",
      "Requirement already satisfied: fonttools>=4.22.0 in c:\\users\\samsung\\appdata\\local\\programs\\python\\python313\\lib\\site-packages (from matplotlib!=3.6.1,>=3.4->seaborn) (4.55.8)\n",
      "Requirement already satisfied: kiwisolver>=1.3.1 in c:\\users\\samsung\\appdata\\local\\programs\\python\\python313\\lib\\site-packages (from matplotlib!=3.6.1,>=3.4->seaborn) (1.4.8)\n",
      "Requirement already satisfied: packaging>=20.0 in c:\\users\\samsung\\appdata\\local\\programs\\python\\python313\\lib\\site-packages (from matplotlib!=3.6.1,>=3.4->seaborn) (24.2)\n",
      "Requirement already satisfied: pillow>=8 in c:\\users\\samsung\\appdata\\local\\programs\\python\\python313\\lib\\site-packages (from matplotlib!=3.6.1,>=3.4->seaborn) (11.1.0)\n",
      "Requirement already satisfied: pyparsing>=2.3.1 in c:\\users\\samsung\\appdata\\local\\programs\\python\\python313\\lib\\site-packages (from matplotlib!=3.6.1,>=3.4->seaborn) (3.2.1)\n",
      "Requirement already satisfied: python-dateutil>=2.7 in c:\\users\\samsung\\appdata\\local\\programs\\python\\python313\\lib\\site-packages (from matplotlib!=3.6.1,>=3.4->seaborn) (2.9.0.post0)\n",
      "Requirement already satisfied: pytz>=2020.1 in c:\\users\\samsung\\appdata\\local\\programs\\python\\python313\\lib\\site-packages (from pandas>=1.2->seaborn) (2024.2)\n",
      "Requirement already satisfied: tzdata>=2022.7 in c:\\users\\samsung\\appdata\\local\\programs\\python\\python313\\lib\\site-packages (from pandas>=1.2->seaborn) (2025.1)\n",
      "Requirement already satisfied: six>=1.5 in c:\\users\\samsung\\appdata\\local\\programs\\python\\python313\\lib\\site-packages (from python-dateutil>=2.7->matplotlib!=3.6.1,>=3.4->seaborn) (1.17.0)\n"
     ]
    },
    {
     "name": "stderr",
     "output_type": "stream",
     "text": [
      "\n",
      "[notice] A new release of pip is available: 24.3.1 -> 25.0\n",
      "[notice] To update, run: python.exe -m pip install --upgrade pip\n"
     ]
    }
   ],
   "source": [
    "!pip install seaborn\n"
   ]
  },
  {
   "cell_type": "code",
   "execution_count": 67,
   "id": "0da108cf-dfb4-4772-9d05-903273788ace",
   "metadata": {},
   "outputs": [
    {
     "name": "stdout",
     "output_type": "stream",
     "text": [
      "Requirement already satisfied: scikit-learn in c:\\users\\samsung\\appdata\\local\\programs\\python\\python313\\lib\\site-packages (1.6.1)"
     ]
    },
    {
     "name": "stderr",
     "output_type": "stream",
     "text": [
      "\n",
      "[notice] A new release of pip is available: 24.3.1 -> 25.0\n",
      "[notice] To update, run: python.exe -m pip install --upgrade pip\n"
     ]
    },
    {
     "name": "stdout",
     "output_type": "stream",
     "text": [
      "\n",
      "Requirement already satisfied: numpy>=1.19.5 in c:\\users\\samsung\\appdata\\local\\programs\\python\\python313\\lib\\site-packages (from scikit-learn) (2.2.2)\n",
      "Requirement already satisfied: scipy>=1.6.0 in c:\\users\\samsung\\appdata\\local\\programs\\python\\python313\\lib\\site-packages (from scikit-learn) (1.15.1)\n",
      "Requirement already satisfied: joblib>=1.2.0 in c:\\users\\samsung\\appdata\\local\\programs\\python\\python313\\lib\\site-packages (from scikit-learn) (1.4.2)\n",
      "Requirement already satisfied: threadpoolctl>=3.1.0 in c:\\users\\samsung\\appdata\\local\\programs\\python\\python313\\lib\\site-packages (from scikit-learn) (3.5.0)\n"
     ]
    }
   ],
   "source": [
    "!pip install scikit-learn\n",
    "\n"
   ]
  },
  {
   "cell_type": "code",
   "execution_count": 68,
   "id": "25f48766-fd75-4e1b-8ae0-3a4246a1b2c8",
   "metadata": {},
   "outputs": [],
   "source": [
    "import pandas as pd\n",
    "import numpy as np\n",
    "import matplotlib.pyplot as plt\n",
    "import seaborn as sns\n",
    "from sklearn.preprocessing import (StandardScaler, MinMaxScaler, LabelEncoder, OneHotEncoder, FunctionTransformer)\n",
    "from sklearn.model_selection import train_test_split\n",
    "from sklearn.linear_model import LinearRegression\n",
    "from sklearn.metrics import mean_squared_error, r2_score\n",
    "import pickle"
   ]
  },
  {
   "cell_type": "code",
   "execution_count": 83,
   "id": "9906ba0d-8bee-4495-976c-6de5be86d548",
   "metadata": {},
   "outputs": [
    {
     "name": "stdout",
     "output_type": "stream",
     "text": [
      "Requirement already satisfied: pipreqs in c:\\users\\samsung\\appdata\\local\\programs\\python\\python313\\lib\\site-packages (0.4.13)\n",
      "Requirement already satisfied: docopt in c:\\users\\samsung\\appdata\\local\\programs\\python\\python313\\lib\\site-packages (from pipreqs) (0.6.2)\n",
      "Requirement already satisfied: yarg in c:\\users\\samsung\\appdata\\local\\programs\\python\\python313\\lib\\site-packages (from pipreqs) (0.1.10)\n",
      "Requirement already satisfied: requests in c:\\users\\samsung\\appdata\\local\\programs\\python\\python313\\lib\\site-packages (from yarg->pipreqs) (2.32.3)\n",
      "Requirement already satisfied: charset-normalizer<4,>=2 in c:\\users\\samsung\\appdata\\local\\programs\\python\\python313\\lib\\site-packages (from requests->yarg->pipreqs) (3.4.1)\n",
      "Requirement already satisfied: idna<4,>=2.5 in c:\\users\\samsung\\appdata\\local\\programs\\python\\python313\\lib\\site-packages (from requests->yarg->pipreqs) (3.10)\n",
      "Requirement already satisfied: urllib3<3,>=1.21.1 in c:\\users\\samsung\\appdata\\local\\programs\\python\\python313\\lib\\site-packages (from requests->yarg->pipreqs) (2.3.0)\n",
      "Requirement already satisfied: certifi>=2017.4.17 in c:\\users\\samsung\\appdata\\local\\programs\\python\\python313\\lib\\site-packages (from requests->yarg->pipreqs) (2024.12.14)\n"
     ]
    },
    {
     "name": "stderr",
     "output_type": "stream",
     "text": [
      "\n",
      "[notice] A new release of pip is available: 24.3.1 -> 25.0\n",
      "[notice] To update, run: python.exe -m pip install --upgrade pip\n"
     ]
    }
   ],
   "source": [
    "!pip install pipreqs"
   ]
  },
  {
   "cell_type": "markdown",
   "id": "319ded2f-666c-4430-9c69-374b7c2b251e",
   "metadata": {},
   "source": [
    "2 - Agora vamos criar um novo dataset com as features escolhidas para o modelo."
   ]
  },
  {
   "cell_type": "code",
   "execution_count": 69,
   "id": "d9cc955c-be75-47f0-9665-f29c122151a5",
   "metadata": {},
   "outputs": [
    {
     "data": {
      "text/html": [
       "<div>\n",
       "<style scoped>\n",
       "    .dataframe tbody tr th:only-of-type {\n",
       "        vertical-align: middle;\n",
       "    }\n",
       "\n",
       "    .dataframe tbody tr th {\n",
       "        vertical-align: top;\n",
       "    }\n",
       "\n",
       "    .dataframe thead th {\n",
       "        text-align: right;\n",
       "    }\n",
       "</style>\n",
       "<table border=\"1\" class=\"dataframe\">\n",
       "  <thead>\n",
       "    <tr style=\"text-align: right;\">\n",
       "      <th></th>\n",
       "      <th>latitude</th>\n",
       "      <th>longitude</th>\n",
       "      <th>minimo_noite</th>\n",
       "      <th>disponibilidade_365</th>\n",
       "      <th>bairros_group_Bronx</th>\n",
       "      <th>bairros_group_Brooklyn</th>\n",
       "      <th>bairros_group_Manhattan</th>\n",
       "      <th>bairros_group_Queens</th>\n",
       "      <th>bairros_group_Staten Island</th>\n",
       "      <th>room_type_Entire home/apt</th>\n",
       "      <th>room_type_Private room</th>\n",
       "      <th>room_type_Shared room</th>\n",
       "      <th>price</th>\n",
       "    </tr>\n",
       "  </thead>\n",
       "  <tbody>\n",
       "    <tr>\n",
       "      <th>0</th>\n",
       "      <td>40.654576</td>\n",
       "      <td>-73.968571</td>\n",
       "      <td>802</td>\n",
       "      <td>18</td>\n",
       "      <td>False</td>\n",
       "      <td>False</td>\n",
       "      <td>True</td>\n",
       "      <td>False</td>\n",
       "      <td>False</td>\n",
       "      <td>True</td>\n",
       "      <td>False</td>\n",
       "      <td>False</td>\n",
       "      <td>12286</td>\n",
       "    </tr>\n",
       "    <tr>\n",
       "      <th>1</th>\n",
       "      <td>40.892692</td>\n",
       "      <td>-73.363590</td>\n",
       "      <td>106</td>\n",
       "      <td>193</td>\n",
       "      <td>False</td>\n",
       "      <td>False</td>\n",
       "      <td>True</td>\n",
       "      <td>False</td>\n",
       "      <td>False</td>\n",
       "      <td>False</td>\n",
       "      <td>False</td>\n",
       "      <td>True</td>\n",
       "      <td>5307</td>\n",
       "    </tr>\n",
       "    <tr>\n",
       "      <th>2</th>\n",
       "      <td>40.802301</td>\n",
       "      <td>-73.685644</td>\n",
       "      <td>202</td>\n",
       "      <td>197</td>\n",
       "      <td>False</td>\n",
       "      <td>False</td>\n",
       "      <td>True</td>\n",
       "      <td>False</td>\n",
       "      <td>False</td>\n",
       "      <td>True</td>\n",
       "      <td>False</td>\n",
       "      <td>False</td>\n",
       "      <td>6291</td>\n",
       "    </tr>\n",
       "    <tr>\n",
       "      <th>3</th>\n",
       "      <td>40.747198</td>\n",
       "      <td>-73.491429</td>\n",
       "      <td>1123</td>\n",
       "      <td>232</td>\n",
       "      <td>False</td>\n",
       "      <td>False</td>\n",
       "      <td>False</td>\n",
       "      <td>False</td>\n",
       "      <td>True</td>\n",
       "      <td>False</td>\n",
       "      <td>True</td>\n",
       "      <td>False</td>\n",
       "      <td>15488</td>\n",
       "    </tr>\n",
       "    <tr>\n",
       "      <th>4</th>\n",
       "      <td>40.564268</td>\n",
       "      <td>-73.092434</td>\n",
       "      <td>758</td>\n",
       "      <td>265</td>\n",
       "      <td>False</td>\n",
       "      <td>False</td>\n",
       "      <td>True</td>\n",
       "      <td>False</td>\n",
       "      <td>False</td>\n",
       "      <td>True</td>\n",
       "      <td>False</td>\n",
       "      <td>False</td>\n",
       "      <td>11821</td>\n",
       "    </tr>\n",
       "  </tbody>\n",
       "</table>\n",
       "</div>"
      ],
      "text/plain": [
       "    latitude  longitude  minimo_noite  disponibilidade_365  \\\n",
       "0  40.654576 -73.968571           802                   18   \n",
       "1  40.892692 -73.363590           106                  193   \n",
       "2  40.802301 -73.685644           202                  197   \n",
       "3  40.747198 -73.491429          1123                  232   \n",
       "4  40.564268 -73.092434           758                  265   \n",
       "\n",
       "   bairros_group_Bronx  bairros_group_Brooklyn  bairros_group_Manhattan  \\\n",
       "0                False                   False                     True   \n",
       "1                False                   False                     True   \n",
       "2                False                   False                     True   \n",
       "3                False                   False                    False   \n",
       "4                False                   False                     True   \n",
       "\n",
       "   bairros_group_Queens  bairros_group_Staten Island  \\\n",
       "0                 False                        False   \n",
       "1                 False                        False   \n",
       "2                 False                        False   \n",
       "3                 False                         True   \n",
       "4                 False                        False   \n",
       "\n",
       "   room_type_Entire home/apt  room_type_Private room  room_type_Shared room  \\\n",
       "0                       True                   False                  False   \n",
       "1                      False                   False                   True   \n",
       "2                       True                   False                  False   \n",
       "3                      False                    True                  False   \n",
       "4                       True                   False                  False   \n",
       "\n",
       "   price  \n",
       "0  12286  \n",
       "1   5307  \n",
       "2   6291  \n",
       "3  15488  \n",
       "4  11821  "
      ]
     },
     "execution_count": 69,
     "metadata": {},
     "output_type": "execute_result"
    }
   ],
   "source": [
    "#Gerar dados com comportamentos linear forte\n",
    "np.random.seed(42) #para reproduzir os resultados\n",
    "bairros_group = ['Manhattan', 'Brooklyn', 'Queens', 'Staten Island', 'Bronx'] #5 bairros mais populares\n",
    "latitude = np.random.uniform(40.49979, 40.91306, 100) #Definição de maximo, minimo e a quantidade de amostras\n",
    "longitude = np.random.uniform(-74, -73, 100) #Definição de maximo, minimo e a quantidade de amostras\n",
    "room_type =['Entire home/apt', 'Private room', 'Shared room'] #5 tipos de rooms\n",
    "minimo_noite = np.random.uniform(1, 1250, 100) #Definição de maximo, minimo e a quantidade de amostras\n",
    "dispoibilidade_365 = np.random.uniform(0, 365, 100) #Definição de maximo, minimo e a quantidade de amostras\n",
    "\n",
    "\n",
    "# Definir os coeficientes para uma relação linear mais realista\n",
    "coef_bairros_goup = 50  # Coeficiente para o bairro\n",
    "coef_latitude = 10  # Coeficiente para a latitude\n",
    "coef_longitude = -50  # Coeficiente para a longitude\n",
    "coef_minimo_noite = 10  # Coeficiente para o mínimo de noites\n",
    "coef_dispoibilidade_365 = 0.1  # Coeficiente para a disponibilidade anual\n",
    "intercept = 100  # Intercept\n",
    "\n",
    "# Definição de como o modelo calculara os valores\n",
    "price = (intercept + \n",
    "         coef_bairros_goup + \n",
    "         coef_latitude * latitude + \n",
    "         coef_longitude * longitude + \n",
    "         coef_minimo_noite * minimo_noite + \n",
    "         coef_dispoibilidade_365 * dispoibilidade_365)\n",
    "\n",
    "\n",
    "#É necessario trasnformar algumas colunas categoricas em numeros ou valores booleanos (True ou False), pois os modelos são matematicos em sua construção.\n",
    "#Vamos fazer isso a seguir\n",
    "\n",
    "#Criar o dataframe\n",
    "df_precificação = pd.DataFrame({ \n",
    "    \"latitude\": latitude, \n",
    "    \"longitude\": longitude, \n",
    "    'minimo_noite': minimo_noite, \n",
    "    'disponibilidade_365': dispoibilidade_365,\n",
    "    'bairros_group': np.random.choice(bairros_group, size=100), \n",
    "    'room_type': np.random.choice(room_type, size=100)\n",
    "})\n",
    "\n",
    "\n",
    "df_precificação = pd.get_dummies(df_precificação, columns = ['bairros_group', 'room_type']) #get_dummies é uma função da biblioteca pandas que transforma dados categorios em numericos\n",
    "df_precificação['price'] = price\n",
    "df_precificação['price'] = df_precificação['price'].round().astype(int) #astype.(int) #trasnformará os dados em numeros inteiros.\n",
    "\n",
    "colunas_numericas = [ 'minimo_noite', 'disponibilidade_365']\n",
    "\n",
    "\n",
    "df_precificação[colunas_numericas] = df_precificação[colunas_numericas].apply(lambda x: x.astype(int)) #As colunas numericas chamadas logo acima foram transformadas em numeros inteiros nessa parte do codigo.\n",
    "\n",
    "df_precificação.head()\n",
    "\n",
    "#Com a trasformação foram criadas 8 colunas com valores booleanos para que o modelo relacione melhor os dados."
   ]
  },
  {
   "cell_type": "markdown",
   "id": "4d6cd263-da9d-4646-81ac-426071825210",
   "metadata": {},
   "source": [
    "3 - É necessario um pre-processamento dos dados. Vou utilizar a escala Min-Max. Essa tecnica é uma normalização dos dados para que os valores da lista fiquem em um intervalo entre 0 e 1, e dessa forma melhorando os resultados. "
   ]
  },
  {
   "cell_type": "code",
   "execution_count": 70,
   "id": "c2facbd6-e425-47bc-b28b-c365beccc548",
   "metadata": {},
   "outputs": [
    {
     "data": {
      "text/html": [
       "<div>\n",
       "<style scoped>\n",
       "    .dataframe tbody tr th:only-of-type {\n",
       "        vertical-align: middle;\n",
       "    }\n",
       "\n",
       "    .dataframe tbody tr th {\n",
       "        vertical-align: top;\n",
       "    }\n",
       "\n",
       "    .dataframe thead th {\n",
       "        text-align: right;\n",
       "    }\n",
       "</style>\n",
       "<table border=\"1\" class=\"dataframe\">\n",
       "  <thead>\n",
       "    <tr style=\"text-align: right;\">\n",
       "      <th></th>\n",
       "      <th>latitude</th>\n",
       "      <th>longitude</th>\n",
       "      <th>minimo_noite</th>\n",
       "      <th>disponibilidade_365</th>\n",
       "      <th>bairros_group_Bronx</th>\n",
       "      <th>bairros_group_Brooklyn</th>\n",
       "      <th>bairros_group_Manhattan</th>\n",
       "      <th>bairros_group_Queens</th>\n",
       "      <th>bairros_group_Staten Island</th>\n",
       "      <th>room_type_Entire home/apt</th>\n",
       "      <th>room_type_Private room</th>\n",
       "      <th>room_type_Shared room</th>\n",
       "      <th>price</th>\n",
       "    </tr>\n",
       "  </thead>\n",
       "  <tbody>\n",
       "    <tr>\n",
       "      <th>0</th>\n",
       "      <td>0.376025</td>\n",
       "      <td>0.025010</td>\n",
       "      <td>0.646341</td>\n",
       "      <td>0.036517</td>\n",
       "      <td>0.0</td>\n",
       "      <td>0.0</td>\n",
       "      <td>1.0</td>\n",
       "      <td>0.0</td>\n",
       "      <td>0.0</td>\n",
       "      <td>1.0</td>\n",
       "      <td>0.0</td>\n",
       "      <td>0.0</td>\n",
       "      <td>0.646628</td>\n",
       "    </tr>\n",
       "    <tr>\n",
       "      <th>1</th>\n",
       "      <td>0.963140</td>\n",
       "      <td>0.643159</td>\n",
       "      <td>0.080488</td>\n",
       "      <td>0.528090</td>\n",
       "      <td>0.0</td>\n",
       "      <td>0.0</td>\n",
       "      <td>1.0</td>\n",
       "      <td>0.0</td>\n",
       "      <td>0.0</td>\n",
       "      <td>0.0</td>\n",
       "      <td>0.0</td>\n",
       "      <td>1.0</td>\n",
       "      <td>0.078120</td>\n",
       "    </tr>\n",
       "    <tr>\n",
       "      <th>2</th>\n",
       "      <td>0.740267</td>\n",
       "      <td>0.314095</td>\n",
       "      <td>0.158537</td>\n",
       "      <td>0.539326</td>\n",
       "      <td>0.0</td>\n",
       "      <td>0.0</td>\n",
       "      <td>1.0</td>\n",
       "      <td>0.0</td>\n",
       "      <td>0.0</td>\n",
       "      <td>1.0</td>\n",
       "      <td>0.0</td>\n",
       "      <td>0.0</td>\n",
       "      <td>0.158276</td>\n",
       "    </tr>\n",
       "    <tr>\n",
       "      <th>3</th>\n",
       "      <td>0.604399</td>\n",
       "      <td>0.512536</td>\n",
       "      <td>0.907317</td>\n",
       "      <td>0.637640</td>\n",
       "      <td>0.0</td>\n",
       "      <td>0.0</td>\n",
       "      <td>0.0</td>\n",
       "      <td>0.0</td>\n",
       "      <td>1.0</td>\n",
       "      <td>0.0</td>\n",
       "      <td>1.0</td>\n",
       "      <td>0.0</td>\n",
       "      <td>0.907462</td>\n",
       "    </tr>\n",
       "    <tr>\n",
       "      <th>4</th>\n",
       "      <td>0.153354</td>\n",
       "      <td>0.920216</td>\n",
       "      <td>0.610569</td>\n",
       "      <td>0.730337</td>\n",
       "      <td>0.0</td>\n",
       "      <td>0.0</td>\n",
       "      <td>1.0</td>\n",
       "      <td>0.0</td>\n",
       "      <td>0.0</td>\n",
       "      <td>1.0</td>\n",
       "      <td>0.0</td>\n",
       "      <td>0.0</td>\n",
       "      <td>0.608749</td>\n",
       "    </tr>\n",
       "  </tbody>\n",
       "</table>\n",
       "</div>"
      ],
      "text/plain": [
       "   latitude  longitude  minimo_noite  disponibilidade_365  \\\n",
       "0  0.376025   0.025010      0.646341             0.036517   \n",
       "1  0.963140   0.643159      0.080488             0.528090   \n",
       "2  0.740267   0.314095      0.158537             0.539326   \n",
       "3  0.604399   0.512536      0.907317             0.637640   \n",
       "4  0.153354   0.920216      0.610569             0.730337   \n",
       "\n",
       "   bairros_group_Bronx  bairros_group_Brooklyn  bairros_group_Manhattan  \\\n",
       "0                  0.0                     0.0                      1.0   \n",
       "1                  0.0                     0.0                      1.0   \n",
       "2                  0.0                     0.0                      1.0   \n",
       "3                  0.0                     0.0                      0.0   \n",
       "4                  0.0                     0.0                      1.0   \n",
       "\n",
       "   bairros_group_Queens  bairros_group_Staten Island  \\\n",
       "0                   0.0                          0.0   \n",
       "1                   0.0                          0.0   \n",
       "2                   0.0                          0.0   \n",
       "3                   0.0                          1.0   \n",
       "4                   0.0                          0.0   \n",
       "\n",
       "   room_type_Entire home/apt  room_type_Private room  room_type_Shared room  \\\n",
       "0                        1.0                     0.0                    0.0   \n",
       "1                        0.0                     0.0                    1.0   \n",
       "2                        1.0                     0.0                    0.0   \n",
       "3                        0.0                     1.0                    0.0   \n",
       "4                        1.0                     0.0                    0.0   \n",
       "\n",
       "      price  \n",
       "0  0.646628  \n",
       "1  0.078120  \n",
       "2  0.158276  \n",
       "3  0.907462  \n",
       "4  0.608749  "
      ]
     },
     "execution_count": 70,
     "metadata": {},
     "output_type": "execute_result"
    }
   ],
   "source": [
    "df_minmax= MinMaxScaler()\n",
    "df_precificação_normalização = df_minmax.fit_transform(df_precificação)\n",
    "column_names = df_precificação.columns \n",
    "df_precificação_normalização = pd.DataFrame(df_precificação_normalização, columns=column_names)\n",
    "df_precificação_normalização.head()"
   ]
  },
  {
   "cell_type": "markdown",
   "id": "d44d2f44-51f4-45f5-aee3-4bc9ce445ad4",
   "metadata": {},
   "source": [
    "3.1 - Vamos observar os resultados dos dados apos a normalização em um grafico utilizando da biblioteca sns e plt. Utilizando o bairro mais procurado como variavel junto com o minimo de noite. O preço esta como principal argumento no codigo , pois podemos perceber como ele varia de acordo com as variaveis utilizadas. Podemos perceber que a medida que o minimo de noite aumenta o valor tambem aumenta."
   ]
  },
  {
   "cell_type": "code",
   "execution_count": 71,
   "id": "3ee8a8c9-6d84-4e9c-9773-bb191fb12d7e",
   "metadata": {},
   "outputs": [
    {
     "data": {
      "image/png": "[encoded data removed]",
      "text/plain": [
       "<Figure size 572x500 with 6 Axes>"
      ]
     },
     "metadata": {},
     "output_type": "display_data"
    }
   ],
   "source": [
    "sns.pairplot(df_precificação_normalização, hue='price', diag_kind='kde',vars=['bairros_group_Manhattan', 'minimo_noite'])\n",
    "plt.suptitle(\"Dados Após Min-Max Scaling\", y=1.02)\n",
    "plt.show()"
   ]
  },
  {
   "cell_type": "markdown",
   "id": "2467188c-68c3-4bde-bb4f-22838fea472b",
   "metadata": {},
   "source": [
    "3.1.1 - Vamos observar o coficiente de relação entre minimo de noite e o preço. O resultado mostra uma relação forte."
   ]
  },
  {
   "cell_type": "code",
   "execution_count": 72,
   "id": "43e99d1f-d1f2-4d10-a1ba-4996b6b53191",
   "metadata": {},
   "outputs": [
    {
     "name": "stdout",
     "output_type": "stream",
     "text": [
      "Correlação entre minimo_noite e o price: 0.9999879187378581\n"
     ]
    }
   ],
   "source": [
    "# Calculando o coeficiente de correlação entre 'minimo_noite' e 'price'\n",
    "correlation_coefficient = df_precificação_normalização['minimo_noite'].corr(df_precificação_normalização['price'])\n",
    "\n",
    "# Imprimindo o coeficiente de correlação\n",
    "print(f\"Correlação entre minimo_noite e o price: {correlation_coefficient}\")\n"
   ]
  },
  {
   "cell_type": "markdown",
   "id": "69b312e2-950a-454d-a74b-e7d3c2ca0f39",
   "metadata": {},
   "source": [
    "3.2 - Vamos separar os dados e treinar o modelo."
   ]
  },
  {
   "cell_type": "code",
   "execution_count": 73,
   "id": "4e2e99a6-4668-43fb-9a46-c70c3dece2d8",
   "metadata": {},
   "outputs": [
    {
     "data": {
      "text/html": [
       "<style>#sk-container-id-2 {\n",
       "  /* Definition of color scheme common for light and dark mode */\n",
       "  --sklearn-color-text: #000;\n",
       "  --sklearn-color-text-muted: #666;\n",
       "  --sklearn-color-line: gray;\n",
       "  /* Definition of color scheme for unfitted estimators */\n",
       "  --sklearn-color-unfitted-level-0: #fff5e6;\n",
       "  --sklearn-color-unfitted-level-1: #f6e4d2;\n",
       "  --sklearn-color-unfitted-level-2: #ffe0b3;\n",
       "  --sklearn-color-unfitted-level-3: chocolate;\n",
       "  /* Definition of color scheme for fitted estimators */\n",
       "  --sklearn-color-fitted-level-0: #f0f8ff;\n",
       "  --sklearn-color-fitted-level-1: #d4ebff;\n",
       "  --sklearn-color-fitted-level-2: #b3dbfd;\n",
       "  --sklearn-color-fitted-level-3: cornflowerblue;\n",
       "\n",
       "  /* Specific color for light theme */\n",
       "  --sklearn-color-text-on-default-background: var(--sg-text-color, var(--theme-code-foreground, var(--jp-content-font-color1, black)));\n",
       "  --sklearn-color-background: var(--sg-background-color, var(--theme-background, var(--jp-layout-color0, white)));\n",
       "  --sklearn-color-border-box: var(--sg-text-color, var(--theme-code-foreground, var(--jp-content-font-color1, black)));\n",
       "  --sklearn-color-icon: #696969;\n",
       "\n",
       "  @media (prefers-color-scheme: dark) {\n",
       "    /* Redefinition of color scheme for dark theme */\n",
       "    --sklearn-color-text-on-default-background: var(--sg-text-color, var(--theme-code-foreground, var(--jp-content-font-color1, white)));\n",
       "    --sklearn-color-background: var(--sg-background-color, var(--theme-background, var(--jp-layout-color0, #111)));\n",
       "    --sklearn-color-border-box: var(--sg-text-color, var(--theme-code-foreground, var(--jp-content-font-color1, white)));\n",
       "    --sklearn-color-icon: #878787;\n",
       "  }\n",
       "}\n",
       "\n",
       "#sk-container-id-2 {\n",
       "  color: var(--sklearn-color-text);\n",
       "}\n",
       "\n",
       "#sk-container-id-2 pre {\n",
       "  padding: 0;\n",
       "}\n",
       "\n",
       "#sk-container-id-2 input.sk-hidden--visually {\n",
       "  border: 0;\n",
       "  clip: rect(1px 1px 1px 1px);\n",
       "  clip: rect(1px, 1px, 1px, 1px);\n",
       "  height: 1px;\n",
       "  margin: -1px;\n",
       "  overflow: hidden;\n",
       "  padding: 0;\n",
       "  position: absolute;\n",
       "  width: 1px;\n",
       "}\n",
       "\n",
       "#sk-container-id-2 div.sk-dashed-wrapped {\n",
       "  border: 1px dashed var(--sklearn-color-line);\n",
       "  margin: 0 0.4em 0.5em 0.4em;\n",
       "  box-sizing: border-box;\n",
       "  padding-bottom: 0.4em;\n",
       "  background-color: var(--sklearn-color-background);\n",
       "}\n",
       "\n",
       "#sk-container-id-2 div.sk-container {\n",
       "  /* jupyter's `normalize.less` sets `[hidden] { display: none; }`\n",
       "     but bootstrap.min.css set `[hidden] { display: none !important; }`\n",
       "     so we also need the `!important` here to be able to override the\n",
       "     default hidden behavior on the sphinx rendered scikit-learn.org.\n",
       "     See: https://github.com/scikit-learn/scikit-learn/issues/21755 */\n",
       "  display: inline-block !important;\n",
       "  position: relative;\n",
       "}\n",
       "\n",
       "#sk-container-id-2 div.sk-text-repr-fallback {\n",
       "  display: none;\n",
       "}\n",
       "\n",
       "div.sk-parallel-item,\n",
       "div.sk-serial,\n",
       "div.sk-item {\n",
       "  /* draw centered vertical line to link estimators */\n",
       "  background-image: linear-gradient(var(--sklearn-color-text-on-default-background), var(--sklearn-color-text-on-default-background));\n",
       "  background-size: 2px 100%;\n",
       "  background-repeat: no-repeat;\n",
       "  background-position: center center;\n",
       "}\n",
       "\n",
       "/* Parallel-specific style estimator block */\n",
       "\n",
       "#sk-container-id-2 div.sk-parallel-item::after {\n",
       "  content: \"\";\n",
       "  width: 100%;\n",
       "  border-bottom: 2px solid var(--sklearn-color-text-on-default-background);\n",
       "  flex-grow: 1;\n",
       "}\n",
       "\n",
       "#sk-container-id-2 div.sk-parallel {\n",
       "  display: flex;\n",
       "  align-items: stretch;\n",
       "  justify-content: center;\n",
       "  background-color: var(--sklearn-color-background);\n",
       "  position: relative;\n",
       "}\n",
       "\n",
       "#sk-container-id-2 div.sk-parallel-item {\n",
       "  display: flex;\n",
       "  flex-direction: column;\n",
       "}\n",
       "\n",
       "#sk-container-id-2 div.sk-parallel-item:first-child::after {\n",
       "  align-self: flex-end;\n",
       "  width: 50%;\n",
       "}\n",
       "\n",
       "#sk-container-id-2 div.sk-parallel-item:last-child::after {\n",
       "  align-self: flex-start;\n",
       "  width: 50%;\n",
       "}\n",
       "\n",
       "#sk-container-id-2 div.sk-parallel-item:only-child::after {\n",
       "  width: 0;\n",
       "}\n",
       "\n",
       "/* Serial-specific style estimator block */\n",
       "\n",
       "#sk-container-id-2 div.sk-serial {\n",
       "  display: flex;\n",
       "  flex-direction: column;\n",
       "  align-items: center;\n",
       "  background-color: var(--sklearn-color-background);\n",
       "  padding-right: 1em;\n",
       "  padding-left: 1em;\n",
       "}\n",
       "\n",
       "\n",
       "/* Toggleable style: style used for estimator/Pipeline/ColumnTransformer box that is\n",
       "clickable and can be expanded/collapsed.\n",
       "- Pipeline and ColumnTransformer use this feature and define the default style\n",
       "- Estimators will overwrite some part of the style using the `sk-estimator` class\n",
       "*/\n",
       "\n",
       "/* Pipeline and ColumnTransformer style (default) */\n",
       "\n",
       "#sk-container-id-2 div.sk-toggleable {\n",
       "  /* Default theme specific background. It is overwritten whether we have a\n",
       "  specific estimator or a Pipeline/ColumnTransformer */\n",
       "  background-color: var(--sklearn-color-background);\n",
       "}\n",
       "\n",
       "/* Toggleable label */\n",
       "#sk-container-id-2 label.sk-toggleable__label {\n",
       "  cursor: pointer;\n",
       "  display: flex;\n",
       "  width: 100%;\n",
       "  margin-bottom: 0;\n",
       "  padding: 0.5em;\n",
       "  box-sizing: border-box;\n",
       "  text-align: center;\n",
       "  align-items: start;\n",
       "  justify-content: space-between;\n",
       "  gap: 0.5em;\n",
       "}\n",
       "\n",
       "#sk-container-id-2 label.sk-toggleable__label .caption {\n",
       "  font-size: 0.6rem;\n",
       "  font-weight: lighter;\n",
       "  color: var(--sklearn-color-text-muted);\n",
       "}\n",
       "\n",
       "#sk-container-id-2 label.sk-toggleable__label-arrow:before {\n",
       "  /* Arrow on the left of the label */\n",
       "  content: \"▸\";\n",
       "  float: left;\n",
       "  margin-right: 0.25em;\n",
       "  color: var(--sklearn-color-icon);\n",
       "}\n",
       "\n",
       "#sk-container-id-2 label.sk-toggleable__label-arrow:hover:before {\n",
       "  color: var(--sklearn-color-text);\n",
       "}\n",
       "\n",
       "/* Toggleable content - dropdown */\n",
       "\n",
       "#sk-container-id-2 div.sk-toggleable__content {\n",
       "  max-height: 0;\n",
       "  max-width: 0;\n",
       "  overflow: hidden;\n",
       "  text-align: left;\n",
       "  /* unfitted */\n",
       "  background-color: var(--sklearn-color-unfitted-level-0);\n",
       "}\n",
       "\n",
       "#sk-container-id-2 div.sk-toggleable__content.fitted {\n",
       "  /* fitted */\n",
       "  background-color: var(--sklearn-color-fitted-level-0);\n",
       "}\n",
       "\n",
       "#sk-container-id-2 div.sk-toggleable__content pre {\n",
       "  margin: 0.2em;\n",
       "  border-radius: 0.25em;\n",
       "  color: var(--sklearn-color-text);\n",
       "  /* unfitted */\n",
       "  background-color: var(--sklearn-color-unfitted-level-0);\n",
       "}\n",
       "\n",
       "#sk-container-id-2 div.sk-toggleable__content.fitted pre {\n",
       "  /* unfitted */\n",
       "  background-color: var(--sklearn-color-fitted-level-0);\n",
       "}\n",
       "\n",
       "#sk-container-id-2 input.sk-toggleable__control:checked~div.sk-toggleable__content {\n",
       "  /* Expand drop-down */\n",
       "  max-height: 200px;\n",
       "  max-width: 100%;\n",
       "  overflow: auto;\n",
       "}\n",
       "\n",
       "#sk-container-id-2 input.sk-toggleable__control:checked~label.sk-toggleable__label-arrow:before {\n",
       "  content: \"▾\";\n",
       "}\n",
       "\n",
       "/* Pipeline/ColumnTransformer-specific style */\n",
       "\n",
       "#sk-container-id-2 div.sk-label input.sk-toggleable__control:checked~label.sk-toggleable__label {\n",
       "  color: var(--sklearn-color-text);\n",
       "  background-color: var(--sklearn-color-unfitted-level-2);\n",
       "}\n",
       "\n",
       "#sk-container-id-2 div.sk-label.fitted input.sk-toggleable__control:checked~label.sk-toggleable__label {\n",
       "  background-color: var(--sklearn-color-fitted-level-2);\n",
       "}\n",
       "\n",
       "/* Estimator-specific style */\n",
       "\n",
       "/* Colorize estimator box */\n",
       "#sk-container-id-2 div.sk-estimator input.sk-toggleable__control:checked~label.sk-toggleable__label {\n",
       "  /* unfitted */\n",
       "  background-color: var(--sklearn-color-unfitted-level-2);\n",
       "}\n",
       "\n",
       "#sk-container-id-2 div.sk-estimator.fitted input.sk-toggleable__control:checked~label.sk-toggleable__label {\n",
       "  /* fitted */\n",
       "  background-color: var(--sklearn-color-fitted-level-2);\n",
       "}\n",
       "\n",
       "#sk-container-id-2 div.sk-label label.sk-toggleable__label,\n",
       "#sk-container-id-2 div.sk-label label {\n",
       "  /* The background is the default theme color */\n",
       "  color: var(--sklearn-color-text-on-default-background);\n",
       "}\n",
       "\n",
       "/* On hover, darken the color of the background */\n",
       "#sk-container-id-2 div.sk-label:hover label.sk-toggleable__label {\n",
       "  color: var(--sklearn-color-text);\n",
       "  background-color: var(--sklearn-color-unfitted-level-2);\n",
       "}\n",
       "\n",
       "/* Label box, darken color on hover, fitted */\n",
       "#sk-container-id-2 div.sk-label.fitted:hover label.sk-toggleable__label.fitted {\n",
       "  color: var(--sklearn-color-text);\n",
       "  background-color: var(--sklearn-color-fitted-level-2);\n",
       "}\n",
       "\n",
       "/* Estimator label */\n",
       "\n",
       "#sk-container-id-2 div.sk-label label {\n",
       "  font-family: monospace;\n",
       "  font-weight: bold;\n",
       "  display: inline-block;\n",
       "  line-height: 1.2em;\n",
       "}\n",
       "\n",
       "#sk-container-id-2 div.sk-label-container {\n",
       "  text-align: center;\n",
       "}\n",
       "\n",
       "/* Estimator-specific */\n",
       "#sk-container-id-2 div.sk-estimator {\n",
       "  font-family: monospace;\n",
       "  border: 1px dotted var(--sklearn-color-border-box);\n",
       "  border-radius: 0.25em;\n",
       "  box-sizing: border-box;\n",
       "  margin-bottom: 0.5em;\n",
       "  /* unfitted */\n",
       "  background-color: var(--sklearn-color-unfitted-level-0);\n",
       "}\n",
       "\n",
       "#sk-container-id-2 div.sk-estimator.fitted {\n",
       "  /* fitted */\n",
       "  background-color: var(--sklearn-color-fitted-level-0);\n",
       "}\n",
       "\n",
       "/* on hover */\n",
       "#sk-container-id-2 div.sk-estimator:hover {\n",
       "  /* unfitted */\n",
       "  background-color: var(--sklearn-color-unfitted-level-2);\n",
       "}\n",
       "\n",
       "#sk-container-id-2 div.sk-estimator.fitted:hover {\n",
       "  /* fitted */\n",
       "  background-color: var(--sklearn-color-fitted-level-2);\n",
       "}\n",
       "\n",
       "/* Specification for estimator info (e.g. \"i\" and \"?\") */\n",
       "\n",
       "/* Common style for \"i\" and \"?\" */\n",
       "\n",
       ".sk-estimator-doc-link,\n",
       "a:link.sk-estimator-doc-link,\n",
       "a:visited.sk-estimator-doc-link {\n",
       "  float: right;\n",
       "  font-size: smaller;\n",
       "  line-height: 1em;\n",
       "  font-family: monospace;\n",
       "  background-color: var(--sklearn-color-background);\n",
       "  border-radius: 1em;\n",
       "  height: 1em;\n",
       "  width: 1em;\n",
       "  text-decoration: none !important;\n",
       "  margin-left: 0.5em;\n",
       "  text-align: center;\n",
       "  /* unfitted */\n",
       "  border: var(--sklearn-color-unfitted-level-1) 1pt solid;\n",
       "  color: var(--sklearn-color-unfitted-level-1);\n",
       "}\n",
       "\n",
       ".sk-estimator-doc-link.fitted,\n",
       "a:link.sk-estimator-doc-link.fitted,\n",
       "a:visited.sk-estimator-doc-link.fitted {\n",
       "  /* fitted */\n",
       "  border: var(--sklearn-color-fitted-level-1) 1pt solid;\n",
       "  color: var(--sklearn-color-fitted-level-1);\n",
       "}\n",
       "\n",
       "/* On hover */\n",
       "div.sk-estimator:hover .sk-estimator-doc-link:hover,\n",
       ".sk-estimator-doc-link:hover,\n",
       "div.sk-label-container:hover .sk-estimator-doc-link:hover,\n",
       ".sk-estimator-doc-link:hover {\n",
       "  /* unfitted */\n",
       "  background-color: var(--sklearn-color-unfitted-level-3);\n",
       "  color: var(--sklearn-color-background);\n",
       "  text-decoration: none;\n",
       "}\n",
       "\n",
       "div.sk-estimator.fitted:hover .sk-estimator-doc-link.fitted:hover,\n",
       ".sk-estimator-doc-link.fitted:hover,\n",
       "div.sk-label-container:hover .sk-estimator-doc-link.fitted:hover,\n",
       ".sk-estimator-doc-link.fitted:hover {\n",
       "  /* fitted */\n",
       "  background-color: var(--sklearn-color-fitted-level-3);\n",
       "  color: var(--sklearn-color-background);\n",
       "  text-decoration: none;\n",
       "}\n",
       "\n",
       "/* Span, style for the box shown on hovering the info icon */\n",
       ".sk-estimator-doc-link span {\n",
       "  display: none;\n",
       "  z-index: 9999;\n",
       "  position: relative;\n",
       "  font-weight: normal;\n",
       "  right: .2ex;\n",
       "  padding: .5ex;\n",
       "  margin: .5ex;\n",
       "  width: min-content;\n",
       "  min-width: 20ex;\n",
       "  max-width: 50ex;\n",
       "  color: var(--sklearn-color-text);\n",
       "  box-shadow: 2pt 2pt 4pt #999;\n",
       "  /* unfitted */\n",
       "  background: var(--sklearn-color-unfitted-level-0);\n",
       "  border: .5pt solid var(--sklearn-color-unfitted-level-3);\n",
       "}\n",
       "\n",
       ".sk-estimator-doc-link.fitted span {\n",
       "  /* fitted */\n",
       "  background: var(--sklearn-color-fitted-level-0);\n",
       "  border: var(--sklearn-color-fitted-level-3);\n",
       "}\n",
       "\n",
       ".sk-estimator-doc-link:hover span {\n",
       "  display: block;\n",
       "}\n",
       "\n",
       "/* \"?\"-specific style due to the `<a>` HTML tag */\n",
       "\n",
       "#sk-container-id-2 a.estimator_doc_link {\n",
       "  float: right;\n",
       "  font-size: 1rem;\n",
       "  line-height: 1em;\n",
       "  font-family: monospace;\n",
       "  background-color: var(--sklearn-color-background);\n",
       "  border-radius: 1rem;\n",
       "  height: 1rem;\n",
       "  width: 1rem;\n",
       "  text-decoration: none;\n",
       "  /* unfitted */\n",
       "  color: var(--sklearn-color-unfitted-level-1);\n",
       "  border: var(--sklearn-color-unfitted-level-1) 1pt solid;\n",
       "}\n",
       "\n",
       "#sk-container-id-2 a.estimator_doc_link.fitted {\n",
       "  /* fitted */\n",
       "  border: var(--sklearn-color-fitted-level-1) 1pt solid;\n",
       "  color: var(--sklearn-color-fitted-level-1);\n",
       "}\n",
       "\n",
       "/* On hover */\n",
       "#sk-container-id-2 a.estimator_doc_link:hover {\n",
       "  /* unfitted */\n",
       "  background-color: var(--sklearn-color-unfitted-level-3);\n",
       "  color: var(--sklearn-color-background);\n",
       "  text-decoration: none;\n",
       "}\n",
       "\n",
       "#sk-container-id-2 a.estimator_doc_link.fitted:hover {\n",
       "  /* fitted */\n",
       "  background-color: var(--sklearn-color-fitted-level-3);\n",
       "}\n",
       "</style><div id=\"sk-container-id-2\" class=\"sk-top-container\"><div class=\"sk-text-repr-fallback\"><pre>LinearRegression()</pre><b>In a Jupyter environment, please rerun this cell to show the HTML representation or trust the notebook. <br />On GitHub, the HTML representation is unable to render, please try loading this page with nbviewer.org.</b></div><div class=\"sk-container\" hidden><div class=\"sk-item\"><div class=\"sk-estimator fitted sk-toggleable\"><input class=\"sk-toggleable__control sk-hidden--visually\" id=\"sk-estimator-id-2\" type=\"checkbox\" checked><label for=\"sk-estimator-id-2\" class=\"sk-toggleable__label fitted sk-toggleable__label-arrow\"><div><div>LinearRegression</div></div><div><a class=\"sk-estimator-doc-link fitted\" rel=\"noreferrer\" target=\"_blank\" href=\"https://scikit-learn.org/1.6/modules/generated/sklearn.linear_model.LinearRegression.html\">?<span>Documentation for LinearRegression</span></a><span class=\"sk-estimator-doc-link fitted\">i<span>Fitted</span></span></div></label><div class=\"sk-toggleable__content fitted\"><pre>LinearRegression()</pre></div> </div></div></div></div>"
      ],
      "text/plain": [
       "LinearRegression()"
      ]
     },
     "execution_count": 73,
     "metadata": {},
     "output_type": "execute_result"
    }
   ],
   "source": [
    "#Separando os dados de X e y\n",
    "X = df_precificação_normalização[['latitude', 'longitude', \"minimo_noite\", \"disponibilidade_365\", \n",
    "                                 'bairros_group_Bronx', 'bairros_group_Brooklyn', 'bairros_group_Manhattan',\n",
    "                                 'bairros_group_Queens', 'bairros_group_Staten Island',\n",
    "                                 'room_type_Entire home/apt', 'room_type_Private room', 'room_type_Shared room']] \n",
    "y = df_precificação_normalização['price']\n",
    "#Criando uma regressão linear\n",
    "model = LinearRegression()\n",
    "model.fit(X,y)"
   ]
  },
  {
   "cell_type": "code",
   "execution_count": 74,
   "id": "bee35a18-e680-40b2-b153-946e803a784a",
   "metadata": {},
   "outputs": [
    {
     "data": {
      "text/plain": [
       "array([6.46294297e-01, 7.85593450e-02, 1.57965408e-01, 9.07665955e-01,\n",
       "       6.08831069e-01, 4.53870653e-03, 9.61834716e-02, 6.66367656e-01,\n",
       "       2.01805098e-04, 1.57285556e-01, 5.51816488e-01, 6.97381187e-01,\n",
       "       6.53369395e-01, 2.21376539e-01, 7.17813609e-01, 2.33425882e-01,\n",
       "       3.22483854e-01, 7.52764209e-01, 6.51311801e-01, 8.55816511e-01,\n",
       "       6.61033323e-01, 5.69744204e-01, 8.89373203e-02, 3.68041026e-01,\n",
       "       2.65347615e-01, 2.42039691e-01, 9.81823696e-01, 3.91290426e-01,\n",
       "       9.02529324e-01, 6.34279846e-01, 8.01347973e-01, 5.05807169e-01,\n",
       "       5.79726500e-01, 4.93916724e-01, 1.88317117e-01, 7.27544255e-01,\n",
       "       2.79295784e-01, 1.73666753e-02, 6.50341050e-01, 1.70234182e-01,\n",
       "       9.47579699e-01, 9.64324057e-01, 9.22413693e-01, 3.70369012e-01,\n",
       "       9.29819006e-03, 9.39625789e-01, 4.28137356e-01, 9.75211659e-01,\n",
       "       9.74691434e-01, 8.61959875e-01, 2.90746531e-01, 3.86491444e-01,\n",
       "       8.61176027e-01, 3.14300888e-01, 1.62050079e-01, 5.61037252e-01,\n",
       "       9.43352247e-01, 7.00258073e-01, 5.75410779e-01, 9.11020461e-02,\n",
       "       6.19058110e-01, 9.99898813e-01, 1.34527060e-01, 5.20262082e-01,\n",
       "       8.88143780e-01, 7.45115645e-01, 7.03870727e-01, 7.10211857e-01,\n",
       "       3.59829554e-01, 2.90033950e-01, 8.14236934e-01, 8.17233976e-01,\n",
       "       8.73315825e-01, 9.23639428e-01, 5.11244001e-01, 5.04060568e-01,\n",
       "       8.05729296e-01, 6.52809698e-01, 7.06000506e-01, 8.02817535e-01,\n",
       "       8.97945356e-01, 3.39215060e-01, 3.73920193e-01, 8.80174230e-02,\n",
       "       5.83008747e-01, 2.93819284e-02, 4.64730474e-01, 5.43635787e-01,\n",
       "       2.84839835e-01, 5.95517446e-01, 2.72340881e-02, 2.90133500e-02,\n",
       "       8.27961993e-01, 3.59363471e-01, 1.22275132e-01, 5.26208920e-01,\n",
       "       7.76204397e-01, 2.10633605e-01, 6.25264454e-01, 7.91396386e-02])"
      ]
     },
     "execution_count": 74,
     "metadata": {},
     "output_type": "execute_result"
    }
   ],
   "source": [
    "#Previsão do valor do imóvel com base nos dados coletados\n",
    "previsão = model.predict(X)\n",
    "previsão"
   ]
  },
  {
   "cell_type": "code",
   "execution_count": 75,
   "id": "b9edf1d3-6361-4906-8e1c-d2adafd92643",
   "metadata": {},
   "outputs": [],
   "source": [
    "#Codigo para o treinamento. Escolha de 70 de teste e 30 de treinamento\n",
    "X_train, X_test, y_train, y_test = train_test_split(X, y, test_size=0.7, random_state=42)\n",
    "model.fit(X_train, y_train)\n",
    "#Prevendo o conjunto de testes\n",
    "y_pred = model.predict(X_test)\n"
   ]
  },
  {
   "cell_type": "markdown",
   "id": "f3f52ad2-d54f-4f63-8a0d-b406bfadd03e",
   "metadata": {},
   "source": [
    "3.3 - Resultados"
   ]
  },
  {
   "cell_type": "code",
   "execution_count": 76,
   "id": "11810568-7623-486b-878d-28bbf2bbaa33",
   "metadata": {},
   "outputs": [
    {
     "data": {
      "image/png": "[encoded data removed]",
      "text/plain": [
       "<Figure size 800x400 with 1 Axes>"
      ]
     },
     "metadata": {},
     "output_type": "display_data"
    }
   ],
   "source": [
    "#Visualizar resultado\n",
    "plt.figure(figsize=(8,4))\n",
    "plt.scatter(df_precificação_normalização['minimo_noite'], df_precificação_normalização['price'], color='b', label='Dados Reais')\n",
    "\n",
    "#Trancar a reta de regressão\n",
    "z = np.polyfit(df_precificação_normalização['minimo_noite'], previsão, 1)\n",
    "p = np.poly1d(z)\n",
    "plt.plot(df_precificação_normalização['minimo_noite'], p(df_precificação_normalização['minimo_noite']), \"r--\", label='Regressão Linear')\n",
    "\n",
    "plt.xlabel('Minimo de noites')\n",
    "plt.ylabel('Price')\n",
    "plt.title('Regressão Linear para Previsão de Valores de Imóveis')\n",
    "plt.legend()\n",
    "plt.show()"
   ]
  },
  {
   "cell_type": "markdown",
   "id": "f910ba16-12d7-450a-88b9-b984683b4f3d",
   "metadata": {},
   "source": [
    "Perceba que de acordo com o aumento de numero de noites, o preço do aluguel aumenta. O grafico nos mostra uma linha reta e os dados reais bem proximos a linha, o que indica que a relação entre as variaveis é forte. Do gráfico podemos ter algumas sugestões de valores com o minimo de noites. "
   ]
  },
  {
   "cell_type": "code",
   "execution_count": 77,
   "id": "ba612768-5a82-478d-bdd1-5f8735850a52",
   "metadata": {},
   "outputs": [
    {
     "name": "stdout",
     "output_type": "stream",
     "text": [
      "R²: 0.9999994507548373\n",
      "RMSE: 0.00022013283006013505\n"
     ]
    }
   ],
   "source": [
    "#Avaliação do modelo\n",
    "r2 = r2_score(y, previsão)\n",
    "mse = mean_squared_error(y, previsão)  \n",
    "rmse = np.sqrt(mse)  \n",
    "print(f\"R²: {r2}\")\n",
    "print(f\"RMSE: {rmse}\")"
   ]
  },
  {
   "cell_type": "markdown",
   "id": "aac113b0-56f6-421a-bd00-bd77ae4b2082",
   "metadata": {
    "jp-MarkdownHeadingCollapsed": true
   },
   "source": [
    "### Explicação\n",
    "O modelo utilizado foi regressão linear, pois é uma otima escolha quando se quer prever preços de imoveis. Utilizei algumas features que julguei mais importante para trabalhar o modelo (bairros_group,minimo de noite, latitude, longitude,room type e disponibilidade 365). Para avaliar o modelo utilizei o mean squared error que mede a media dos quadrados das diferenças entre os valores previstos e valores reais e tambem o R-squared que mede a proporção da variança dos dados onde a variação esta entre 0 e 1, onde 1 indica um modelo perfeito.\n",
    "O modelo em questão foi escolhido devido a sua simplicidade e facilidade de implementação, além de ser interpretável e trasnparente, pois cada efeito da variavel sobre o resultado pode ser observado e o ajuste do aos dados pode ser avaliado. Em compensação o modelo pode ser propenso a overfitting (Adpatação em demasia aos dados de treinamento e não consegue fazer novas previsões) ou underfitting( Quando o modelo é muito simples para capturar os padrões dos dados de treinamento) o que pode levar a uma baixa generalização do modelo. Além disso é um modelo restritivo e irreal, pois como assume a relação linear entra as variaveis, os erros normalmente são distribuidos e independentes, e a variancia dos erros é constante. Contudo é uma opção considerável para os objetivos em questão."
   ]
  },
  {
   "cell_type": "markdown",
   "id": "2015f2aa-9867-49ef-91ef-08bd6fc557c2",
   "metadata": {},
   "source": [
    "_________________________________________________________________________________________________________________________________________________________"
   ]
  },
  {
   "cell_type": "markdown",
   "id": "e040d0fa-c20e-443c-bd4f-93fbd284b156",
   "metadata": {},
   "source": [
    "### Qual preço?"
   ]
  },
  {
   "cell_type": "markdown",
   "id": "9d03b558-cb82-43cb-ba12-498988b3cbd9",
   "metadata": {},
   "source": [
    "Supondo um apartamento com as seguintes características:\n",
    "\n",
    "{'id': 2595,\n",
    "\n",
    "'nome': 'Skylit Midtown Castle',\n",
    " \n",
    " 'host_id': 2845,\n",
    " \n",
    " 'host_name': 'Jennifer',\n",
    " \n",
    " 'bairro_group': 'Manhattan',\n",
    " \n",
    " 'bairro': 'Midtown',\n",
    " \n",
    " 'latitude': 40.75362,\n",
    " \n",
    " 'longitude': -73.98377,\n",
    " \n",
    " 'room_type': 'Entire home/apt',\n",
    " \n",
    " 'minimo_noites': 1,\n",
    " \n",
    " 'numero_de_reviews': 45,\n",
    " \n",
    " 'ultima_review': '2019-05-21',\n",
    " \n",
    " 'reviews_por_mes': 0.38,\n",
    " \n",
    " 'calculado_host_listings_count': 2,\n",
    " \n",
    " 'disponibilidade_365': 355}\n",
    "\n",
    "Qual seria a sua sugestão de preço?\n"
   ]
  },
  {
   "cell_type": "markdown",
   "id": "b588ed4e-97fb-4ca1-829c-821174891349",
   "metadata": {},
   "source": [
    "De acordo com o modelo podemos utilizar algumas features para prever o valor. Vou utilizar bairro_group, latitude, longitude, room_type, minimo de noites e disponibilidade 365."
   ]
  },
  {
   "cell_type": "code",
   "execution_count": 78,
   "id": "7f5b3c05-09b3-42c6-b0bf-dfbc1bcaac4b",
   "metadata": {},
   "outputs": [
    {
     "data": {
      "text/html": [
       "<div>\n",
       "<style scoped>\n",
       "    .dataframe tbody tr th:only-of-type {\n",
       "        vertical-align: middle;\n",
       "    }\n",
       "\n",
       "    .dataframe tbody tr th {\n",
       "        vertical-align: top;\n",
       "    }\n",
       "\n",
       "    .dataframe thead th {\n",
       "        text-align: right;\n",
       "    }\n",
       "</style>\n",
       "<table border=\"1\" class=\"dataframe\">\n",
       "  <thead>\n",
       "    <tr style=\"text-align: right;\">\n",
       "      <th></th>\n",
       "      <th>latitude</th>\n",
       "      <th>longitude</th>\n",
       "      <th>minimo_noite</th>\n",
       "      <th>disponibilidade_365</th>\n",
       "      <th>bairros_group_Manhattan</th>\n",
       "      <th>room_type_Entire home/apt</th>\n",
       "      <th>price</th>\n",
       "    </tr>\n",
       "  </thead>\n",
       "  <tbody>\n",
       "    <tr>\n",
       "      <th>0</th>\n",
       "      <td>40.75362</td>\n",
       "      <td>-73.8377</td>\n",
       "      <td>1</td>\n",
       "      <td>355</td>\n",
       "      <td>True</td>\n",
       "      <td>True</td>\n",
       "      <td>38</td>\n",
       "    </tr>\n",
       "  </tbody>\n",
       "</table>\n",
       "</div>"
      ],
      "text/plain": [
       "   latitude  longitude  minimo_noite  disponibilidade_365  \\\n",
       "0  40.75362   -73.8377             1                  355   \n",
       "\n",
       "   bairros_group_Manhattan  room_type_Entire home/apt  price  \n",
       "0                     True                       True     38  "
      ]
     },
     "execution_count": 78,
     "metadata": {},
     "output_type": "execute_result"
    }
   ],
   "source": [
    "#Gerar dados com comportamentos linear forte\n",
    "np.random.seed(42) #para reproduzir os resultados\n",
    "bairros_group = ['Manhattan'] # bairro\n",
    "latitude = np.random.uniform(40.75362,40.75362,1)\n",
    "longitude = np.random.uniform( -73.8377,-73.8377, 1)\n",
    "room_type =['Entire home/apt']\n",
    "minimo_noite = np.random.uniform(1, 1,1)\n",
    "dispoibilidade_365 = np.random.uniform(355,355, 1)\n",
    "\n",
    "\n",
    "# Definir os coeficientes para uma relação linear mais realista\n",
    "coef_bairros_goup = 1  # Coeficiente para o bairro\n",
    "coef_latitude = 0 # Coeficiente para a latitude\n",
    "coef_longitude = 0 # Coeficiente para a longitude\n",
    "coef_minimo_noite =0  # Coeficiente para o mínimo de noites\n",
    "coef_dispoibilidade_365 = 0.1  # Coeficiente para a disponibilidade anual\n",
    "intercept = 1  # Intercept\n",
    "\n",
    "# Gerar o valor do imóvel com ruído mínimo\n",
    "price = (intercept + \n",
    "         coef_bairros_goup + \n",
    "         coef_latitude * latitude + \n",
    "         coef_longitude * longitude + \n",
    "         coef_minimo_noite * minimo_noite + \n",
    "         coef_dispoibilidade_365 * dispoibilidade_365)\n",
    "\n",
    "#Criar o dataframe\n",
    "df_precificação_sugestão = pd.DataFrame({ \n",
    "    \"latitude\": latitude, \n",
    "    \"longitude\": longitude, \n",
    "    'minimo_noite': minimo_noite, \n",
    "    'disponibilidade_365': dispoibilidade_365,\n",
    "    'bairros_group': np.random.choice(bairros_group, size=1), \n",
    "    'room_type': np.random.choice(room_type, size=1)\n",
    "})\n",
    "\n",
    "\n",
    "df_precificação_sugestão = pd.get_dummies(df_precificação_sugestão, columns = ['bairros_group', 'room_type'])\n",
    "df_precificação_sugestão['price'] = price\n",
    "df_precificação_sugestão['price'] = df_precificação_sugestão['price'].round().astype(int)\n",
    "\n",
    "colunas_numericas = [ 'minimo_noite', 'disponibilidade_365']\n",
    "\n",
    "\n",
    "df_precificação_sugestão[colunas_numericas] = df_precificação_sugestão[colunas_numericas].apply(lambda x: x.astype(int))\n",
    "\n",
    "\n",
    "df_precificação_sugestão.head()\n"
   ]
  },
  {
   "cell_type": "markdown",
   "id": "bf0ae794-c700-48a1-8b9d-87355a9ed18a",
   "metadata": {},
   "source": [
    "A sugestao de preço seria 38 dolares."
   ]
  },
  {
   "cell_type": "code",
   "execution_count": 79,
   "id": "e01740aa-2f23-4517-9d14-4b227705c244",
   "metadata": {},
   "outputs": [],
   "source": [
    "# Salvar o modelo em um arquivo .pkl\n",
    "with open('Teste_Indicium_Analise_e_Modelo.pkl', 'wb') as file:\n",
    "    pickle.dump(model, file)"
   ]
  },
  {
   "cell_type": "code",
   "execution_count": 82,
   "id": "ca857081-bf9c-4121-8b32-9065c0cd1e46",
   "metadata": {},
   "outputs": [
    {
     "name": "stdout",
     "output_type": "stream",
     "text": [
      "Requirement already satisfied: pipreqs in c:\\users\\samsung\\appdata\\local\\programs\\python\\python313\\lib\\site-packages (0.4.13)Note: you may need to restart the kernel to use updated packages.\n",
      "\n",
      "Requirement already satisfied: docopt in c:\\users\\samsung\\appdata\\local\\programs\\python\\python313\\lib\\site-packages (from pipreqs) (0.6.2)\n",
      "Requirement already satisfied: yarg in c:\\users\\samsung\\appdata\\local\\programs\\python\\python313\\lib\\site-packages (from pipreqs) (0.1.10)\n",
      "Requirement already satisfied: requests in c:\\users\\samsung\\appdata\\local\\programs\\python\\python313\\lib\\site-packages (from yarg->pipreqs) (2.32.3)\n",
      "Requirement already satisfied: charset-normalizer<4,>=2 in c:\\users\\samsung\\appdata\\local\\programs\\python\\python313\\lib\\site-packages (from requests->yarg->pipreqs) (3.4.1)\n",
      "Requirement already satisfied: idna<4,>=2.5 in c:\\users\\samsung\\appdata\\local\\programs\\python\\python313\\lib\\site-packages (from requests->yarg->pipreqs) (3.10)\n",
      "Requirement already satisfied: urllib3<3,>=1.21.1 in c:\\users\\samsung\\appdata\\local\\programs\\python\\python313\\lib\\site-packages (from requests->yarg->pipreqs) (2.3.0)\n",
      "Requirement already satisfied: certifi>=2017.4.17 in c:\\users\\samsung\\appdata\\local\\programs\\python\\python313\\lib\\site-packages (from requests->yarg->pipreqs) (2024.12.14)\n"
     ]
    },
    {
     "name": "stderr",
     "output_type": "stream",
     "text": [
      "\n",
      "[notice] A new release of pip is available: 24.3.1 -> 25.0\n",
      "[notice] To update, run: python.exe -m pip install --upgrade pip\n"
     ]
    }
   ],
   "source": [
    "pip install pipreqs\n"
   ]
  },
  {
   "cell_type": "code",
   "execution_count": 81,
   "id": "63454dc7-2ca7-4799-bafa-8e3c2160f804",
   "metadata": {},
   "outputs": [
    {
     "name": "stdout",
     "output_type": "stream",
     "text": [
      "C:\\Users\\samsung\\Downloads\n"
     ]
    }
   ],
   "source": []
  },
  {
   "cell_type": "code",
   "execution_count": null,
   "id": "9d95ff1e-5acc-4090-a7a0-41e3f195bce0",
   "metadata": {},
   "outputs": [],
   "source": []
  }
 ],
 "metadata": {
  "kernelspec": {
   "display_name": "Python 3 (ipykernel)",
   "language": "python",
   "name": "python3"
  },
  "language_info": {
   "codemirror_mode": {
    "name": "ipython",
    "version": 3
   },
   "file_extension": ".py",
   "mimetype": "text/x-python",
   "name": "python",
   "nbconvert_exporter": "python",
   "pygments_lexer": "ipython3",
   "version": "3.13.1"
  }
 },
 "nbformat": 4,
 "nbformat_minor": 5
}
